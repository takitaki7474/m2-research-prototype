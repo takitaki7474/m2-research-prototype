{
 "cells": [
  {
   "cell_type": "code",
   "execution_count": 34,
   "metadata": {},
   "outputs": [],
   "source": [
    "import json\n",
    "import random\n",
    "import pandas as pd\n",
    "import sqlite3\n",
    "\n",
    "# feature_table(ft) をDataFrame形式で読み込み\n",
    "def load_feature_table(dbpath, tablename=\"feature_table\"):\n",
    "    conn=sqlite3.connect(dbpath)\n",
    "    c = conn.cursor()\n",
    "    ft = pd.read_sql('SELECT * FROM ' + tablename, conn)\n",
    "    return ft\n",
    "\n",
    "# feature_table_indexes(ftis) を初期化\n",
    "def init_feature_table_indexes(feature_table):\n",
    "    ft = feature_table\n",
    "    ftis = {} # feature_table_indexes\n",
    "    ftis[\"train\"],ftis[\"trained\"], ftis[\"query\"], ftis[\"selected_query\"] = [], [], [], []\n",
    "    labels = sorted(ft[\"label\"].unique())\n",
    "    ft_labelby = ft.groupby(\"label\")\n",
    "    for label in labels:\n",
    "        df = ft_labelby.get_group(label)\n",
    "        queries = df[\"index\"].values.tolist()\n",
    "        query = random.sample(queries, 1)[0]\n",
    "        ftis[\"query\"].append(query)\n",
    "    return ftis\n",
    "\n",
    "# feature_table_indexes(ftis) をjson形式で保存\n",
    "def save_feature_table_indexes(ftis, savepath):\n",
    "    with open(savepath, \"w\") as f:\n",
    "        json.dump(ftis, f, indent=4)\n",
    "        \n",
    "# feature_table_indexes(ftis) を辞書形式で読み込み\n",
    "def load_feature_table_indexes(ftis_path):\n",
    "    with open(ftis_path, \"r\") as f:\n",
    "        ftis = json.load(f)\n",
    "    return ftis"
   ]
  },
  {
   "cell_type": "code",
   "execution_count": 49,
   "metadata": {},
   "outputs": [],
   "source": [
    "import json\n",
    "import faiss\n",
    "import numpy as np\n",
    "\n",
    "class TrainDataSelector:\n",
    "    \n",
    "    def __init__(self, feature_table, feature_table_indexes):\n",
    "        self.ft = self.__drop_trained_data(feature_table, feature_table_indexes)\n",
    "        self.ftis = feature_table_indexes\n",
    "        self.labels = sorted(feature_table[\"label\"].unique())\n",
    "        self.faiss_indexes = {} # ラベルごとのフィーチャ全体のfaissインデックス\n",
    "              \n",
    "    def __drop_trained_data(self, feature_table, feature_table_indexes):\n",
    "        ft = feature_table.drop(index=feature_table_indexes[\"trained\"])\n",
    "        ft = ft.reset_index(drop=True)\n",
    "        return ft\n",
    "    \n",
    "    # フィーチャを検索するための,フィーチャ全体のfaissインデックスを作成\n",
    "    def make_faiss_indexes(self):\n",
    "        ft_labelby = self.ft.groupby(\"label\")\n",
    "        for label in self.labels:\n",
    "            features = []\n",
    "            df = ft_labelby.get_group(label)\n",
    "            for feature in df[\"feature\"]:\n",
    "                features.append(json.loads(feature))\n",
    "            features = np.array(features).astype(\"float32\")\n",
    "            dim = len(features[0])\n",
    "            index = faiss.IndexFlatL2(dim)\n",
    "            index.add(features)\n",
    "            self.faiss_indexes[label] = index"
   ]
  },
  {
   "cell_type": "code",
   "execution_count": null,
   "metadata": {},
   "outputs": [],
   "source": [
    "dbpath = \"./assets/features_v1.db\"\n",
    "feature_table = load_feature_table(dbpath)"
   ]
  },
  {
   "cell_type": "code",
   "execution_count": 35,
   "metadata": {},
   "outputs": [],
   "source": [
    "tables_labelby = []\n",
    "labels = feature_table[\"label\"].unique()\n",
    "df = feature_table.groupby(\"label\")\n",
    "for label in labels:\n",
    "    df_labelby = df.get_group(label)\n",
    "    df_labelby = df_labelby.reset_index(drop=True)\n",
    "    tables_labelby.append(df_labelby)"
   ]
  },
  {
   "cell_type": "code",
   "execution_count": null,
   "metadata": {},
   "outputs": [],
   "source": [
    "for table in tables_labelby:\n",
    "    features = []\n",
    "    for feature in table[\"feature\"]:\n",
    "        feature = json.loads(feature)\n",
    "        features.append(feature)"
   ]
  },
  {
   "cell_type": "code",
   "execution_count": null,
   "metadata": {},
   "outputs": [],
   "source": [
    "for table in self.tables_labelby:\n",
    "    features = []\n",
    "    for feature in table[\"feature\"]:\n",
    "        feature = json.loads(feature)\n",
    "        features.append(feature)\n",
    "    features = np.array(features).astype(\"float32\")\n",
    "    dim = len(features[0])\n",
    "    index = faiss.IndexFlatL2(dim)\n",
    "    index.add(features)\n",
    "    self.feature_indexes.append(index)"
   ]
  },
  {
   "cell_type": "code",
   "execution_count": 48,
   "metadata": {},
   "outputs": [
    {
     "data": {
      "text/plain": [
       "{0: 1}"
      ]
     },
     "execution_count": 48,
     "metadata": {},
     "output_type": "execute_result"
    }
   ],
   "source": [
    "a = {}\n",
    "a[0] = 1\n",
    "a"
   ]
  },
  {
   "cell_type": "code",
   "execution_count": null,
   "metadata": {},
   "outputs": [],
   "source": []
  },
  {
   "cell_type": "code",
   "execution_count": null,
   "metadata": {},
   "outputs": [],
   "source": []
  }
 ],
 "metadata": {
  "kernelspec": {
   "display_name": "Python 3",
   "language": "python",
   "name": "python3"
  },
  "language_info": {
   "codemirror_mode": {
    "name": "ipython",
    "version": 3
   },
   "file_extension": ".py",
   "mimetype": "text/x-python",
   "name": "python",
   "nbconvert_exporter": "python",
   "pygments_lexer": "ipython3",
   "version": "3.6.10"
  }
 },
 "nbformat": 4,
 "nbformat_minor": 2
}
