{
 "cells": [
  {
   "cell_type": "code",
   "execution_count": 1,
   "metadata": {},
   "outputs": [],
   "source": [
    "import matplotlib.pyplot as plt"
   ]
  },
  {
   "cell_type": "code",
   "execution_count": 2,
   "metadata": {},
   "outputs": [],
   "source": [
    "# lossのplot\n",
    "def plot_loss(train_loss_list, test_loss_list, save_path):\n",
    "    max_axisX = len(train_loss_list)\n",
    "    plt.figure(figsize=(7,5))\n",
    "    plt.plot(range(max_axisX), train_loss_list)\n",
    "    plt.plot(range(max_axisX), test_loss_list, c='#ed7700')\n",
    "    plt.ylim(bottom=0)\n",
    "    plt.xlabel('epoch')\n",
    "    plt.ylabel('loss')\n",
    "    plt.legend(['train/loss', 'test/loss'])\n",
    "    plt.grid()\n",
    "    plt.savefig(save_path)\n",
    "    plt.clf()\n",
    "\n",
    "# accuracyのplot\n",
    "def plot_acc(train_acc_list, test_acc_list, save_path):\n",
    "    max_axisX = len(train_acc_list)\n",
    "    plt.figure(figsize=(7,5))\n",
    "    plt.plot(range(max_axisX), train_acc_list)\n",
    "    plt.plot(range(max_axisX), test_acc_list, c='#ed7700')\n",
    "    plt.ylim(bottom=0)\n",
    "    plt.xlabel('epoch')\n",
    "    plt.ylabel('accuracy')\n",
    "    plt.legend(['train/acc', 'test/acc'])\n",
    "    plt.grid()\n",
    "    plt.savefig(save_path)\n",
    "    plt.clf()"
   ]
  },
  {
   "cell_type": "code",
   "execution_count": null,
   "metadata": {},
   "outputs": [],
   "source": [
    "# train_lossesを生成するStub\n",
    "def train_losses_stub():\n",
    "    \n",
    "    "
   ]
  },
  {
   "cell_type": "code",
   "execution_count": null,
   "metadata": {},
   "outputs": [],
   "source": []
  }
 ],
 "metadata": {
  "kernelspec": {
   "display_name": "Python 3",
   "language": "python",
   "name": "python3"
  },
  "language_info": {
   "codemirror_mode": {
    "name": "ipython",
    "version": 3
   },
   "file_extension": ".py",
   "mimetype": "text/x-python",
   "name": "python",
   "nbconvert_exporter": "python",
   "pygments_lexer": "ipython3",
   "version": "3.6.10"
  }
 },
 "nbformat": 4,
 "nbformat_minor": 2
}
