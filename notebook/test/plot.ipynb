{
 "cells": [
  {
   "cell_type": "code",
   "execution_count": 1,
   "metadata": {},
   "outputs": [],
   "source": [
    "import matplotlib.pyplot as plt"
   ]
  },
  {
   "cell_type": "code",
   "execution_count": 2,
   "metadata": {},
   "outputs": [],
   "source": [
    "# lossのplot\n",
    "def plot_loss(train_losses, test_losses, save_path):\n",
    "    max_axisX = len(train_losses)\n",
    "    plt.figure(figsize=(7,5))\n",
    "    plt.plot(range(max_axisX), train_losses)\n",
    "    plt.plot(range(max_axisX), test_losses, c='#ed7700')\n",
    "    plt.ylim(bottom=0)\n",
    "    plt.xlabel('epoch')\n",
    "    plt.ylabel('loss')\n",
    "    plt.legend(['train/loss', 'test/loss'])\n",
    "    plt.grid()\n",
    "    plt.savefig(save_path)\n",
    "    plt.clf()\n",
    "\n",
    "# accuracyのplot\n",
    "def plot_acc(train_accs, test_accs, save_path):\n",
    "    max_axisX = len(train_accs)\n",
    "    plt.figure(figsize=(7,5))\n",
    "    plt.plot(range(max_axisX), train_accs)\n",
    "    plt.plot(range(max_axisX), test_accs, c='#ed7700')\n",
    "    plt.ylim(bottom=0)\n",
    "    plt.xlabel('epoch')\n",
    "    plt.ylabel('accuracy')\n",
    "    plt.legend(['train/acc', 'test/acc'])\n",
    "    plt.grid()\n",
    "    plt.savefig(save_path)\n",
    "    plt.clf()"
   ]
  },
  {
   "cell_type": "code",
   "execution_count": 3,
   "metadata": {},
   "outputs": [],
   "source": [
    "# losses と accs を生成するStub\n",
    "import json\n",
    "\n",
    "def losses_stub():\n",
    "    path = \"./log.json\"\n",
    "    with open(path) as f:\n",
    "        logs = json.load(f)\n",
    "    train_losses = []\n",
    "    test_losses = []\n",
    "    for log in logs:\n",
    "        train_losses.append(log[\"train_loss\"])\n",
    "        test_losses.append(log[\"test_loss\"])\n",
    "    return train_losses, test_losses\n",
    "    \n",
    "def accs_stub():\n",
    "    path = \"./log.json\"\n",
    "    with open(path) as f:\n",
    "        logs = json.load(f)\n",
    "    train_accs = []\n",
    "    test_accs = []\n",
    "    for log in logs:\n",
    "        train_accs.append(log[\"train_acc\"])\n",
    "        test_accs.append(log[\"test_acc\"])\n",
    "    return train_accs, test_accs"
   ]
  },
  {
   "cell_type": "code",
   "execution_count": 4,
   "metadata": {},
   "outputs": [
    {
     "data": {
      "text/plain": [
       "<matplotlib.figure.Figure at 0x7fee68489d30>"
      ]
     },
     "metadata": {},
     "output_type": "display_data"
    }
   ],
   "source": [
    "# plot_loss のテスト\n",
    "train_losses, test_losses = losses_stub()\n",
    "save_path = \"./assets/test_loss.png\"\n",
    "plot_loss(train_losses, test_losses, save_path)"
   ]
  },
  {
   "cell_type": "code",
   "execution_count": 5,
   "metadata": {},
   "outputs": [
    {
     "data": {
      "text/plain": [
       "<matplotlib.figure.Figure at 0x7fee696df278>"
      ]
     },
     "metadata": {},
     "output_type": "display_data"
    }
   ],
   "source": [
    "# plot_acc のテスト\n",
    "train_accs, test_accs = accs_stub()\n",
    "save_path = \"./assets/test_acc.png\"\n",
    "plot_acc(train_accs, test_accs, save_path)"
   ]
  },
  {
   "cell_type": "code",
   "execution_count": null,
   "metadata": {},
   "outputs": [],
   "source": []
  }
 ],
 "metadata": {
  "kernelspec": {
   "display_name": "Python 3",
   "language": "python",
   "name": "python3"
  },
  "language_info": {
   "codemirror_mode": {
    "name": "ipython",
    "version": 3
   },
   "file_extension": ".py",
   "mimetype": "text/x-python",
   "name": "python",
   "nbconvert_exporter": "python",
   "pygments_lexer": "ipython3",
   "version": "3.6.10"
  }
 },
 "nbformat": 4,
 "nbformat_minor": 2
}
