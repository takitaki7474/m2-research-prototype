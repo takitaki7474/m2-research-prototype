{
 "cells": [
  {
   "cell_type": "code",
<<<<<<< HEAD
   "execution_count": 1,
=======
   "execution_count": 25,
>>>>>>> Add test for plot module
   "metadata": {},
   "outputs": [],
   "source": [
    "import matplotlib.pyplot as plt"
   ]
  },
  {
   "cell_type": "code",
<<<<<<< HEAD
   "execution_count": 2,
=======
   "execution_count": 32,
>>>>>>> Add test for plot module
   "metadata": {},
   "outputs": [],
   "source": [
    "# lossのplot\n",
    "def plot_loss(train_losses, test_losses, save_path):\n",
    "    max_axisX = len(train_losses)\n",
    "    plt.figure(figsize=(7,5))\n",
    "    plt.plot(range(max_axisX), train_losses)\n",
    "    plt.plot(range(max_axisX), test_losses, c='#ed7700')\n",
    "    plt.ylim(bottom=0)\n",
    "    plt.xlabel('epoch')\n",
    "    plt.ylabel('loss')\n",
    "    plt.legend(['train/loss', 'test/loss'])\n",
    "    plt.grid()\n",
    "    plt.savefig(save_path)\n",
    "    plt.clf()\n",
    "\n",
    "# accuracyのplot\n",
    "def plot_acc(train_accs, test_accs, save_path):\n",
    "    max_axisX = len(train_accs)\n",
    "    plt.figure(figsize=(7,5))\n",
    "    plt.plot(range(max_axisX), train_accs)\n",
    "    plt.plot(range(max_axisX), test_accs, c='#ed7700')\n",
    "    plt.ylim(bottom=0)\n",
    "    plt.xlabel('epoch')\n",
    "    plt.ylabel('accuracy')\n",
    "    plt.legend(['train/acc', 'test/acc'])\n",
    "    plt.grid()\n",
    "    plt.savefig(save_path)\n",
    "    plt.clf()"
   ]
  },
  {
   "cell_type": "code",
<<<<<<< HEAD
   "execution_count": 3,
=======
   "execution_count": 33,
>>>>>>> Add test for plot module
   "metadata": {},
   "outputs": [],
   "source": [
    "# losses と accs を生成するStub\n",
    "import json\n",
    "\n",
    "def losses_stub():\n",
<<<<<<< HEAD
    "    path = \"./test_log.json\"\n",
=======
    "    path = \"./assets/test_log.json\"\n",
>>>>>>> Add test for plot module
    "    with open(path) as f:\n",
    "        logs = json.load(f)\n",
    "    train_losses = []\n",
    "    test_losses = []\n",
    "    for log in logs:\n",
    "        train_losses.append(log[\"train/loss\"])\n",
    "        test_losses.append(log[\"test/loss\"])\n",
    "    return train_losses, test_losses\n",
    "    \n",
    "def accs_stub():\n",
<<<<<<< HEAD
    "    path = \"./test_log.json\"\n",
=======
    "    path = \"./assets/test_log.json\"\n",
>>>>>>> Add test for plot module
    "    with open(path) as f:\n",
    "        logs = json.load(f)\n",
    "    train_accs = []\n",
    "    test_accs = []\n",
    "    for log in logs:\n",
    "        train_accs.append(log[\"train/acc\"])\n",
    "        test_accs.append(log[\"test/acc\"])\n",
    "    return train_accs, test_accs"
   ]
  },
  {
   "cell_type": "code",
<<<<<<< HEAD
   "execution_count": 4,
=======
   "execution_count": 34,
>>>>>>> Add test for plot module
   "metadata": {},
   "outputs": [
    {
     "data": {
      "text/plain": [
<<<<<<< HEAD
       "<matplotlib.figure.Figure at 0x7fd775dee860>"
=======
       "<matplotlib.figure.Figure at 0x7f9b6f6e7358>"
>>>>>>> Add test for plot module
      ]
     },
     "metadata": {},
     "output_type": "display_data"
    }
   ],
   "source": [
    "# plot_loss のテスト\n",
    "train_losses, test_losses = losses_stub()\n",
    "save_path = \"./assets/test_loss.png\"\n",
    "plot_loss(train_losses, test_losses, save_path)"
   ]
  },
  {
   "cell_type": "code",
<<<<<<< HEAD
   "execution_count": 5,
=======
   "execution_count": 35,
>>>>>>> Add test for plot module
   "metadata": {},
   "outputs": [
    {
     "data": {
      "text/plain": [
<<<<<<< HEAD
       "<matplotlib.figure.Figure at 0x7fd774b2e160>"
=======
       "<matplotlib.figure.Figure at 0x7f9b6f72b1d0>"
>>>>>>> Add test for plot module
      ]
     },
     "metadata": {},
     "output_type": "display_data"
    }
   ],
   "source": [
    "# plot_acc のテスト\n",
    "train_accs, test_accs = accs_stub()\n",
    "save_path = \"./assets/test_acc.png\"\n",
    "plot_acc(train_accs, test_accs, save_path)"
   ]
  },
  {
   "cell_type": "code",
   "execution_count": null,
   "metadata": {},
   "outputs": [],
   "source": []
  }
 ],
 "metadata": {
  "kernelspec": {
   "display_name": "Python 3",
   "language": "python",
   "name": "python3"
  },
  "language_info": {
   "codemirror_mode": {
    "name": "ipython",
    "version": 3
   },
   "file_extension": ".py",
   "mimetype": "text/x-python",
   "name": "python",
   "nbconvert_exporter": "python",
   "pygments_lexer": "ipython3",
   "version": "3.6.10"
  }
 },
 "nbformat": 4,
 "nbformat_minor": 2
}
