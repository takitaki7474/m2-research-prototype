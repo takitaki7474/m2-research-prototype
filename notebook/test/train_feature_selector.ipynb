{
 "cells": [
  {
   "cell_type": "code",
   "execution_count": 2,
   "metadata": {},
   "outputs": [],
   "source": [
    "import json\n",
    "import random\n",
    "import pandas as pd\n",
    "import sqlite3\n",
    "\n",
    "\"\"\"\n",
    "feature_table(ft):\n",
    "    index, feature, image, label をカラムとしてDataFrame形式で格納したデータ.\n",
    "\n",
    "feature_table_indexes(ftis): \n",
    "    feature_tableのindexをjson形式で格納したデータ. フィーチャの状態(train, trained, query, selected_query)を記録.\n",
    "    train -> 次の学習で訓練するフィーチャのindex\n",
    "    trained ->  1度以上学習済みのフィーチャのindex\n",
    "    query -> 次の学習データを選択するために利用する近傍探索のクエリフィーチャのindex\n",
    "    selected_query -> 1度以上選択されたクエリフィーチャのindex\n",
    "\"\"\"\n",
    "\n",
    "# feature_table(ft) をDataFrame形式で読み込み\n",
    "def load_feature_table(dbpath, tablename=\"feature_table\"):\n",
    "    conn=sqlite3.connect(dbpath)\n",
    "    c = conn.cursor()\n",
    "    ft = pd.read_sql('SELECT * FROM ' + tablename, conn)\n",
    "    return ft\n",
    "\n",
    "# feature_table_indexes(ftis) をランダムに初期化\n",
    "def init_feature_table_indexes(feature_table, seed=1):\n",
    "    random.seed(seed)\n",
    "    ft = feature_table\n",
    "    ftis = {} # feature_table_indexes\n",
    "    ftis[\"train\"],ftis[\"trained\"], ftis[\"query\"], ftis[\"selected_query\"] = [], [], [], []\n",
    "    labels = sorted(ft[\"label\"].unique())\n",
    "    ft_labelby = ft.groupby(\"label\")\n",
    "    for label in labels:\n",
    "        df = ft_labelby.get_group(label)\n",
    "        queries = df[\"index\"].values.tolist()\n",
    "        query = random.sample(queries, 1)[0]\n",
    "        ftis[\"query\"].append(query)\n",
    "    return ftis\n",
    "\n",
    "# feature_table_indexes(ftis) をjson形式で保存\n",
    "def save_feature_table_indexes(ftis, savepath):\n",
    "    with open(savepath, \"w\") as f:\n",
    "        json.dump(ftis, f, indent=4)\n",
    "        \n",
    "# feature_table_indexes(ftis) を辞書形式で読み込み\n",
    "def load_feature_table_indexes(ftis_path):\n",
    "    with open(ftis_path, \"r\") as f:\n",
    "        ftis = json.load(f)\n",
    "    return ftis"
   ]
  },
  {
   "cell_type": "code",
   "execution_count": 58,
   "metadata": {},
   "outputs": [],
   "source": [
    "import json\n",
    "import sys\n",
    "import faiss\n",
    "import numpy as np\n",
    "\n",
    "# 次に学習するフィーチャを持つデータを選択\n",
    "class TrainFeatureSelector:\n",
    "    \n",
    "    def __init__(self, feature_table, feature_table_indexes):\n",
    "        self.ft = self.__drop_trained_data(feature_table, feature_table_indexes)\n",
    "        self.ftis = feature_table_indexes\n",
    "        self.labels = sorted(feature_table[\"label\"].unique())\n",
    "        self.faiss_indexes = {} # ラベルごとのフィーチャ全体のfaissインデックス\n",
    "              \n",
    "    def __drop_trained_data(self, feature_table, feature_table_indexes):\n",
    "        ft = feature_table.drop(index=feature_table_indexes[\"trained\"])\n",
    "        ft = ft.reset_index(drop=True)\n",
    "        return ft\n",
    "    \n",
    "    def out_feature_table_indexes(self):\n",
    "        return self.ftis\n",
    "    \n",
    "    # フィーチャを検索するための,フィーチャ全体のfaissインデックスを作成\n",
    "    def make_faiss_indexes(self):\n",
    "        ft_labelby = self.ft.groupby(\"label\")\n",
    "        for label in self.labels:\n",
    "            features = []\n",
    "            df = ft_labelby.get_group(label)\n",
    "            for feature in df[\"feature\"]:\n",
    "                features.append(json.loads(feature))\n",
    "            features = np.array(features).astype(\"float32\")\n",
    "            dim = len(features[0])\n",
    "            index = faiss.IndexFlatL2(dim)\n",
    "            index.add(features)\n",
    "            self.faiss_indexes[label] = index\n",
    "    \n",
    "    # ラベルごとにクエリと最近傍(NN)のフィーチャをdataN分選択し、選択したフィーチャのftisをftis[\"train\"]に追加\n",
    "    def select_NN_train(self, dataN):\n",
    "        if len(self.faiss_indexes) is 0:\n",
    "            print(\"\\nPlease run the process to make faiss indexes in advance.\")\n",
    "            sys.exit()\n",
    "        ft_labelby = self.ft.groupby(\"label\")\n",
    "        for label in self.labels:\n",
    "            index = self.faiss_indexes[label]\n",
    "            k = index.ntotal # 検索対象データ数\n",
    "            query = self.ft[self.ft[\"index\"]==self.ftis[\"query\"][label]][\"feature\"].iat[0] # queryに指定されたフィーチャを取得\n",
    "            query = json.loads(query)\n",
    "            query = np.array([query]).astype(\"float32\")\n",
    "            D, I = index.search(query, k)\n",
    "            self.ftis[\"selected_query\"].append(self.ftis[\"query\"][label])\n",
    "            for i in I[0][:dataN + 1]:\n",
    "                train_index = ft_labelby.get_group(label).iloc[i][\"index\"]\n",
    "                if train_index == self.ftis[\"query\"][label]: continue # クエリはtrainに含めない\n",
    "                self.ftis[\"train\"].append(train_index)\n",
    "    \n",
    "    # クエリを最遠傍点(FP)に更新\n",
    "    def update_FP_queries(self):\n",
    "        if len(self.faiss_indexes) is 0:\n",
    "            print(\"\\nPlease run the process to make faiss indexes in advance.\")\n",
    "            sys.exit()\n",
    "        ft_labelby = self.ft.groupby(\"label\")\n",
    "        for label in self.labels:\n",
    "            index = self.faiss_indexes[label]\n",
    "            k = index.ntotal # 検索対象データ数\n",
    "            query = self.ft[self.ft[\"index\"]==self.ftis[\"query\"][label]][\"feature\"].iat[0] # queryに指定されたフィーチャを取得\n",
    "            query = json.loads(query)\n",
    "            query = np.array([query]).astype(\"float32\")\n",
    "            D, I = index.search(query, k)\n",
    "            for i in reversed(I[0]):\n",
    "                FP_query_index = ft_labelby.get_group(label).iloc[i][\"index\"]\n",
    "                if FP_query_index not in self.ftis[\"selected_query\"]:\n",
    "                    break\n",
    "            self.ftis[\"query\"][label] = FP_query_index"
   ]
  },
  {
   "cell_type": "code",
   "execution_count": 3,
   "metadata": {},
   "outputs": [],
   "source": [
    "# TrainFeatureSelector　の検証用\n",
    "import json\n",
    "import matplotlib.pyplot as plt\n",
    "import numpy as np\n",
    "import torch\n",
    "\n",
    "# torch画像配列の可視化\n",
    "def imshow(img):\n",
    "    img = img / 2 + 0.5     \n",
    "    npimg = img.numpy()\n",
    "    plt.imshow(np.transpose(npimg, (1, 2, 0)))\n",
    "    plt.show()\n",
    "    \n",
    "# feature_tableのindexで指定した画像を可視化\n",
    "def imshow_ftis(feature_table, feature_table_index):\n",
    "    image = json.loads(feature_table[feature_table[\"index\"]==feature_table_index][\"image\"].iloc[0])\n",
    "    image = np.array(image)\n",
    "    image = torch.from_numpy(image.astype(np.float32)).clone()\n",
    "    imshow(image)"
   ]
  },
  {
   "cell_type": "code",
   "execution_count": 56,
   "metadata": {},
   "outputs": [],
   "source": [
    "# updata_FP_query の検証用\n",
    "# featuer_table_index(fti)で指定されたフィーチャ2点間の距離を算出\n",
    "\n",
    "def measure_features_dist(fti1, fti2):\n",
    "    features = []\n",
    "    feature = json.loads(ft[ft[\"index\"]==fti1][\"feature\"].iloc[0])\n",
    "    features.append(feature)\n",
    "    features = np.array(features).astype(\"float32\")\n",
    "    dim = len(features[0])\n",
    "    index = faiss.IndexFlatL2(dim)\n",
    "    index.add(features)\n",
    "    k = index.ntotal\n",
    "    query = json.loads(ft[ft[\"index\"]==fti2][\"feature\"].iloc[0])\n",
    "    query = np.array([query]).astype(\"float32\")\n",
    "    D, I = index.search(query, k)\n",
    "    return list(D)[0][0]"
   ]
  },
  {
   "cell_type": "markdown",
   "metadata": {},
   "source": [
    "### TrainFeatureSelector test"
   ]
  },
  {
   "cell_type": "code",
   "execution_count": 4,
   "metadata": {},
   "outputs": [],
   "source": [
    "dbpath = \"./assets/features_v1.db\"\n",
    "feature_table = load_feature_table(dbpath)"
   ]
  },
  {
   "cell_type": "code",
   "execution_count": 61,
   "metadata": {},
   "outputs": [
    {
     "name": "stdout",
     "output_type": "stream",
     "text": [
      "before ftis:\n",
      "{'train': [], 'trained': [], 'query': [7824, 3776, 9843], 'selected_query': []}\n",
      "after ftis:\n",
      "{'train': [12758, 8637, 867, 3768, 9220, 4162, 2582, 4778, 3088, 7673, 12664, 7156, 9972, 13505, 12308, 2120, 12284, 7259, 3351, 13314, 11991, 6083, 2134, 10117, 11253, 4848, 7699, 9663, 8561, 1303], 'trained': [], 'query': [7824, 3776, 9843], 'selected_query': [7824, 3776, 9843]}\n"
     ]
    }
   ],
   "source": [
    "# select_NN_trainのtest\n",
    "feature_table_indexes = init_feature_table_indexes(feature_table, seed=7)\n",
    "print(\"before ftis:\\n{0}\".format(feature_table_indexes))\n",
    "selector = TrainFeatureSelector(feature_table, feature_table_indexes)\n",
    "selector.make_faiss_indexes()\n",
    "selector.select_NN_train(dataN=10)\n",
    "ftis = selector.out_feature_table_indexes()\n",
    "print(\"after ftis:\\n{0}\".format(ftis))"
   ]
  },
  {
   "cell_type": "code",
   "execution_count": 62,
   "metadata": {},
   "outputs": [
    {
     "name": "stdout",
     "output_type": "stream",
     "text": [
      "フィーチャ間距離:  0.020517956465482712\n"
     ]
    },
    {
     "data": {
      "image/png": "[encoded data removed]",
      "text/plain": [
       "<matplotlib.figure.Figure at 0x7fbf11572c88>"
      ]
     },
     "metadata": {},
     "output_type": "display_data"
    },
    {
     "data": {
      "image/png": "[encoded data removed]",
      "text/plain": [
       "<matplotlib.figure.Figure at 0x7fbef6590b70>"
      ]
     },
     "metadata": {},
     "output_type": "display_data"
    }
   ],
   "source": [
    "# select_NN_trainの出力確認\n",
    "fti1, fti2 = 7824, 12758\n",
    "print(\"フィーチャ間距離:  {0}\".format(measure_features_dist(fti1, fti2))) # フィーチャ間距離を算出\n",
    "imshow_ftis(feature_table, fti1) # クエリの画像を表示\n",
    "imshow_ftis(feature_table, fti2) # クエリと最近傍の画像を表示"
   ]
  },
  {
   "cell_type": "code",
   "execution_count": 64,
   "metadata": {},
   "outputs": [
    {
     "name": "stdout",
     "output_type": "stream",
     "text": [
      "before ftis:\n",
      "{'train': [], 'trained': [], 'query': [7824, 3776, 9843], 'selected_query': []}\n",
      "after ftis:\n",
      "{'train': [4881, 13227, 9415, 6348, 12143, 242, 2200, 10115, 1426, 7431, 5078, 741, 3085, 14694, 34, 14426, 9500, 8026, 7467, 2413, 1246, 9870, 7604, 9606, 11608, 9933, 3821, 5793, 8, 10624], 'trained': [], 'query': [14993, 1991, 4840], 'selected_query': [14993, 1991, 4840]}\n"
     ]
    }
   ],
   "source": [
    "# update_FP_queriesのtest\n",
    "feature_table_indexes = init_feature_table_indexes(feature_table, seed=7)\n",
    "print(\"before ftis:\\n{0}\".format(feature_table_indexes))\n",
    "selector = TrainFeatureSelector(feature_table, feature_table_indexes)\n",
    "selector.make_faiss_indexes()\n",
    "selector.update_FP_queries()\n",
    "selector.select_NN_train(dataN=10)\n",
    "ftis = selector.out_feature_table_indexes()\n",
    "print(\"after ftis:\\n{0}\".format(ftis))"
   ]
  },
  {
   "cell_type": "code",
   "execution_count": 65,
   "metadata": {},
   "outputs": [
    {
     "name": "stdout",
     "output_type": "stream",
     "text": [
      "フィーチャ間距離:  7.588221073150635\n"
     ]
    },
    {
     "data": {
      "image/png": "[encoded data removed]",
      "text/plain": [
       "<matplotlib.figure.Figure at 0x7fbef6914550>"
      ]
     },
     "metadata": {},
     "output_type": "display_data"
    },
    {
     "data": {
      "image/png": "[encoded data removed]",
      "text/plain": [
       "<matplotlib.figure.Figure at 0x7fbef6910240>"
      ]
     },
     "metadata": {},
     "output_type": "display_data"
    }
   ],
   "source": [
    "# update_FP_queriesの出力確認\n",
    "fti1, fti2 = 7824, 4881\n",
    "print(\"フィーチャ間距離:  {0}\".format(measure_features_dist(fti1, fti2))) # フィーチャ間距離を算出\n",
    "imshow_ftis(feature_table, fti1) # クエリの画像を表示\n",
    "imshow_ftis(feature_table, fti2) # クエリと最近傍の画像を表示"
   ]
  },
  {
   "cell_type": "code",
   "execution_count": null,
   "metadata": {},
   "outputs": [],
   "source": []
  }
 ],
 "metadata": {
  "kernelspec": {
   "display_name": "Python 3",
   "language": "python",
   "name": "python3"
  },
  "language_info": {
   "codemirror_mode": {
    "name": "ipython",
    "version": 3
   },
   "file_extension": ".py",
   "mimetype": "text/x-python",
   "name": "python",
   "nbconvert_exporter": "python",
   "pygments_lexer": "ipython3",
   "version": "3.6.10"
  }
 },
 "nbformat": 4,
 "nbformat_minor": 2
}
