{
 "cells": [
  {
   "cell_type": "code",
   "execution_count": null,
   "metadata": {},
   "outputs": [],
   "source": [
    "from collections import defaultdict\n",
    "import json\n",
    "import pandas as pd\n",
    "import sqlite3\n",
    "\n",
    "class FeatureExtractor:\n",
    "    \n",
    "    def __init__(self, model, dataloader):\n",
    "        self.model = model\n",
    "        self.dataloader = dataloader\n",
    "        self.feature_table = None\n",
    "    \n",
    "    def make_feature_table(self):\n",
    "        table = defaultdict(list)\n",
    "        for (inputs, labels) in self.dataloader:\n",
    "            outputs, features = self.model(inputs)\n",
    "            for label, image, feature in zip(labels, inputs, features):\n",
    "                table[\"label\"].append(int(label))\n",
    "                table[\"image\"].append(json.dumps(image.cpu().numpy().tolist()))\n",
    "                table[\"feature\"].append(json.dumps(feature.data.cpu().numpy().tolist()))\n",
    "        for k, v in table.items():\n",
    "            table[k] = pd.Series(v)\n",
    "        self.feature_table = pd.DataFrame(table)\n",
    "        \n",
    "    def save_feature_table(self, savepath, tablename=\"feature_table\"):\n",
    "        if self.feature_table is None:\n",
    "             print(\"feature table does not exist.\")\n",
    "        else:\n",
    "            conn = sqlite3.connect(savepath)\n",
    "            c = conn.cursor()\n",
    "            self.feature_table.to_sql(tablename, conn, if_exists='replace')\n",
    "            conn.close()\n",
    "        "
   ]
  },
  {
   "cell_type": "code",
   "execution_count": 1,
   "metadata": {},
   "outputs": [],
   "source": [
    "a = None"
   ]
  },
  {
   "cell_type": "code",
   "execution_count": 3,
   "metadata": {},
   "outputs": [
    {
     "data": {
      "text/plain": [
       "True"
      ]
     },
     "execution_count": 3,
     "metadata": {},
     "output_type": "execute_result"
    }
   ],
   "source": [
    "a is None\n"
   ]
  },
  {
   "cell_type": "code",
   "execution_count": null,
   "metadata": {},
   "outputs": [],
   "source": []
  }
 ],
 "metadata": {
  "kernelspec": {
   "display_name": "Python 3",
   "language": "python",
   "name": "python3"
  },
  "language_info": {
   "codemirror_mode": {
    "name": "ipython",
    "version": 3
   },
   "file_extension": ".py",
   "mimetype": "text/x-python",
   "name": "python",
   "nbconvert_exporter": "python",
   "pygments_lexer": "ipython3",
   "version": "3.6.10"
  }
 },
 "nbformat": 4,
 "nbformat_minor": 2
}
