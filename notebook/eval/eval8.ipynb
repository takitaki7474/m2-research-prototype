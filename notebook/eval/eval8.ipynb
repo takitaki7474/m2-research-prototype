{
 "cells": [
  {
   "cell_type": "code",
   "execution_count": 1,
   "metadata": {},
   "outputs": [],
   "source": [
    "import matplotlib.pyplot as plt\n",
    "import pandas as pd\n",
    "import numpy as np\n",
    "import json\n",
    "import os"
   ]
  },
  {
   "cell_type": "code",
   "execution_count": 23,
   "metadata": {},
   "outputs": [],
   "source": [
    "# 従来方法の収束速度の読み込み\n",
    "eval_list = [\"eval5\", \"eval7\", \"eval12\"]\n",
    "model_list = [\"v\" + str(i) for i in range(1, 21)]\n",
    "conv_train_err_speeds = []\n",
    "conv_test_err_speeds = []\n",
    "\n",
    "for eval_v in eval_list:\n",
    "    train_err_speeds = []\n",
    "    test_err_speeds = []\n",
    "    for model_v in model_list:\n",
    "        path = os.path.join(\"../conventional/eval/result\", eval_v, model_v, \"err_speed.json\")\n",
    "        with open(path) as f:\n",
    "            log = json.load(f)\n",
    "        train_err_speeds.append(log[\"train_err_speed\"])\n",
    "        test_err_speeds.append(log[\"test_err_speed\"])\n",
    "    conv_train_err_speeds.append(train_err_speeds)\n",
    "    conv_test_err_speeds.append(test_err_speeds)"
   ]
  },
  {
   "cell_type": "code",
   "execution_count": 24,
   "metadata": {},
   "outputs": [],
   "source": [
    "# 提案方法の収束速度の読み込み\n",
    "# [\"eval41\", \"eval42\", \"eval43\", \"eval44\", \"eval45\"]\n",
    "eval_list = [\"eval41\",\"eval44\", \"eval45\"]\n",
    "model_list = [\"v\" + str(i) for i in range(1, 21)]\n",
    "prop_train_err_speeds = []\n",
    "prop_test_err_speeds = []\n",
    "\n",
    "for eval_v in eval_list:\n",
    "    train_err_speeds = []\n",
    "    test_err_speeds = []\n",
    "    for model_v in model_list:\n",
    "        path = os.path.join(\"../proposal/eval/result\", eval_v, model_v, \"err_speed.json\")\n",
    "        with open(path) as f:\n",
    "            log = json.load(f)\n",
    "        train_err_speeds.append(log[\"train_err_speed\"])\n",
    "        test_err_speeds.append(log[\"test_err_speed\"])\n",
    "    prop_train_err_speeds.append(train_err_speeds)\n",
    "    prop_test_err_speeds.append(test_err_speeds)"
   ]
  },
  {
   "cell_type": "code",
   "execution_count": 27,
   "metadata": {},
   "outputs": [],
   "source": [
    "from collections import defaultdict\n",
    "\n",
    "points = [4,8,15]\n",
    "conv_train_sample_clusters = defaultdict(list)\n",
    "prop_train_sample_clusters = defaultdict(list)\n",
    "conv_test_sample_clusters = defaultdict(list)\n",
    "prop_test_sample_clusters = defaultdict(list)\n",
    "\n",
    "for i, point in enumerate(points):\n",
    "    start = 0 if i == 0 else points[i-1]\n",
    "    end = points[i]\n",
    "    for index in range(3):\n",
    "        conv_train_sample_clusters[i] += conv_train_err_speeds[index][start:end]\n",
    "        prop_train_sample_clusters[i] += prop_train_err_speeds[index][start:end]\n",
    "        conv_test_sample_clusters[i] += conv_test_err_speeds[index][start:end]\n",
    "        prop_test_sample_clusters[i] += prop_test_err_speeds[index][start:end]"
   ]
  },
  {
   "cell_type": "code",
   "execution_count": 28,
   "metadata": {},
   "outputs": [
    {
     "data": {
      "image/png": "[encoded data removed]",
      "text/plain": [
       "<matplotlib.figure.Figure at 0x7fd77dc3f400>"
      ]
     },
     "metadata": {},
     "output_type": "display_data"
    },
    {
     "data": {
      "image/png": "[encoded data removed]",
      "text/plain": [
       "<matplotlib.figure.Figure at 0x7fd77e1d2f98>"
      ]
     },
     "metadata": {},
     "output_type": "display_data"
    }
   ],
   "source": [
    "fig1 = plt.figure(figsize=(8,8))\n",
    "plt.scatter(conv_train_sample_clusters[0], conv_test_sample_clusters[0], c=\"lawngreen\", marker=\"^\")\n",
    "plt.scatter(conv_train_sample_clusters[1], conv_test_sample_clusters[1], c=\"darkturquoise\", marker=\"x\")\n",
    "plt.scatter(conv_train_sample_clusters[2], conv_test_sample_clusters[2], c=\"navy\")\n",
    "plt.xlim(0, 50)\n",
    "plt.ylim(0, 50)\n",
    "plt.grid(True)\n",
    "\n",
    "fig2 = plt.figure(figsize=(8,8))\n",
    "plt.scatter(prop_train_sample_clusters[0], prop_test_sample_clusters[0], c=\"lawngreen\", marker=\"^\")\n",
    "plt.scatter(prop_train_sample_clusters[1], prop_test_sample_clusters[1], c=\"darkturquoise\", marker=\"x\")\n",
    "plt.scatter(prop_train_sample_clusters[2], prop_test_sample_clusters[2], c=\"navy\")\n",
    "plt.xlim(0, 50)\n",
    "plt.ylim(0, 50)\n",
    "plt.grid(True)"
   ]
  },
  {
   "cell_type": "code",
   "execution_count": null,
   "metadata": {},
   "outputs": [],
   "source": []
  }
 ],
 "metadata": {
  "kernelspec": {
   "display_name": "Python 3",
   "language": "python",
   "name": "python3"
  },
  "language_info": {
   "codemirror_mode": {
    "name": "ipython",
    "version": 3
   },
   "file_extension": ".py",
   "mimetype": "text/x-python",
   "name": "python",
   "nbconvert_exporter": "python",
   "pygments_lexer": "ipython3",
   "version": "3.6.10"
  }
 },
 "nbformat": 4,
 "nbformat_minor": 2
}
