{
 "cells": [
  {
   "cell_type": "markdown",
   "metadata": {},
   "source": [
    "# eval1 -------------------------------------------\n",
    "\n",
    "### 以下の条件で, 提案方法と従来方法を比較\n",
    "\n",
    "- 3クラス分類: Cifar10[1,2,8]\n",
    "- 20反復(再学習)\n",
    "- 提案方法において, 収束速度が5%以上上昇しなかった場合クエリを更新\n",
    "- 初期訓練データ: 120\n",
    "- 追加訓練データ: 120\n",
    "- 初期テストデータ: 30\n",
    "- 追加テストデータ: 30\n",
    "- 各反復の全データ数: [120, 240, 360, 480, 600, 720, 840, 960, 1080, 1200, 1320, 1440, 1560, 1680, 1800, 1920, 2040, 2160, 2280, 2400]\n",
    "- eval_lossの設定値:\n",
    " - a=50\n",
    " - n=20"
   ]
  },
  {
   "cell_type": "code",
   "execution_count": null,
   "metadata": {},
   "outputs": [],
   "source": []
  }
 ],
 "metadata": {
  "kernelspec": {
   "display_name": "Python 3",
   "language": "python",
   "name": "python3"
  },
  "language_info": {
   "codemirror_mode": {
    "name": "ipython",
    "version": 3
   },
   "file_extension": ".py",
   "mimetype": "text/x-python",
   "name": "python",
   "nbconvert_exporter": "python",
   "pygments_lexer": "ipython3",
   "version": "3.6.10"
  }
 },
 "nbformat": 4,
 "nbformat_minor": 2
}
