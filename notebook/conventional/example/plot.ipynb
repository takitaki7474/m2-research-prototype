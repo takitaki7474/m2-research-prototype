{
 "cells": [
  {
   "cell_type": "code",
   "execution_count": 3,
   "metadata": {},
   "outputs": [],
   "source": [
    "import matplotlib.pyplot as plt\n",
    "from typing import List, Tuple"
   ]
  },
  {
   "cell_type": "code",
   "execution_count": 2,
   "metadata": {},
   "outputs": [],
   "source": [
    "# lossのplot\n",
    "def plot_loss(train_losses: List[float], test_losses: List[float], savepath: str):\n",
    "    max_axisX = len(train_losses)\n",
    "    plt.figure(figsize=(7,5))\n",
    "    plt.plot(range(max_axisX), train_losses)\n",
    "    plt.plot(range(max_axisX), test_losses, c='#ed7700')\n",
    "    plt.ylim(bottom=0)\n",
    "    plt.xlabel('epoch')\n",
    "    plt.ylabel('loss')\n",
    "    plt.legend(['train/loss', 'test/loss'])\n",
    "    plt.grid()\n",
    "    plt.savefig(savepath)\n",
    "    plt.clf()\n",
    "\n",
    "# accuracyのplot\n",
    "def plot_acc(train_accs: List[float], test_accs: List[float], savepath: str):\n",
    "    max_axisX = len(train_accs)\n",
    "    plt.figure(figsize=(7,5))\n",
    "    plt.plot(range(max_axisX), train_accs)\n",
    "    plt.plot(range(max_axisX), test_accs, c='#ed7700')\n",
    "    plt.ylim(bottom=0)\n",
    "    plt.xlabel('epoch')\n",
    "    plt.ylabel('accuracy')\n",
    "    plt.legend(['train/acc', 'test/acc'])\n",
    "    plt.grid()\n",
    "    plt.savefig(savepath)\n",
    "    plt.clf()"
   ]
  },
  {
   "cell_type": "code",
   "execution_count": 4,
   "metadata": {},
   "outputs": [],
   "source": [
    "import json\n",
    "\n",
    "def load_train_log(path: str):\n",
    "    \n",
    "    def load_losses(path: str) -> Tuple[List[float], List[float]]:\n",
    "        with open(path) as f:\n",
    "            logs = json.load(f)\n",
    "        train_losses, test_losses = [], []\n",
    "        for log in logs:\n",
    "            train_losses.append(log[\"train_loss\"])\n",
    "            test_losses.append(log[\"test_loss\"])\n",
    "        return train_losses, test_losses\n",
    "\n",
    "    def load_accs(path: str) -> Tuple[List[float], List[float]]:\n",
    "        with open(path) as f:\n",
    "            logs = json.load(f)\n",
    "        train_accs, test_accs = [], []\n",
    "        for log in logs:\n",
    "            train_accs.append(log[\"train_acc\"])\n",
    "            test_accs.append(log[\"test_acc\"])\n",
    "        return train_accs, test_accs\n",
    "    \n",
    "    train_losses, test_losses = load_losses(path)\n",
    "    train_accs, test_accs = load_accs(path)\n",
    "    \n",
    "    return train_losses, test_losses, train_accs, test_accs"
   ]
  },
  {
   "cell_type": "code",
   "execution_count": 6,
   "metadata": {},
   "outputs": [],
   "source": [
    "path = \"./assets/log.json\"\n",
    "train_losses, test_losses, train_accs, test_accs = load_train_log(path)"
   ]
  },
  {
   "cell_type": "code",
   "execution_count": 8,
   "metadata": {},
   "outputs": [
    {
     "name": "stdout",
     "output_type": "stream",
     "text": [
      "[1.1038897440592448, 1.097402947998047, 1.087475506591797, 1.0663924591064453, 1.0201808034261068, 0.9528741923014323, 0.885868561299642, 0.8129986668904622, 0.7418832092285156, 0.6820770426432292, 0.6481882952372233, 0.6441686721801758, 0.6345507476806641, 0.6306646377563476, 0.6266731341044108]\n",
      "[1.1202830251057943, 1.112312032063802, 1.0984520060221354, 1.0669251073201498, 1.0036848907470703, 0.9290560302734375, 0.8630384216308594, 0.7911368865966797, 0.722417854309082, 0.6677497634887696, 0.6592747993469238, 0.6552353769938151, 0.654763417561849, 0.6442673377990723, 0.6407324968973795]\n",
      "[0.3554, 0.36966666666666664, 0.39453333333333335, 0.4582, 0.5371333333333334, 0.5790666666666666, 0.6225333333333334, 0.6654, 0.6976, 0.7228, 0.7436666666666667, 0.7439333333333333, 0.7492666666666666, 0.753, 0.7536]\n",
      "[0.3636666666666667, 0.38333333333333336, 0.435, 0.49833333333333335, 0.5616666666666666, 0.605, 0.651, 0.6803333333333333, 0.707, 0.7386666666666667, 0.7446666666666667, 0.74, 0.7386666666666667, 0.7443333333333333, 0.7493333333333333]\n"
     ]
    }
   ],
   "source": [
    "print(train_losses)\n",
    "print(test_losses)\n",
    "print(train_accs)\n",
    "print(test_accs)"
   ]
  },
  {
   "cell_type": "code",
   "execution_count": null,
   "metadata": {},
   "outputs": [],
   "source": []
  }
 ],
 "metadata": {
  "kernelspec": {
   "display_name": "Python 3",
   "language": "python",
   "name": "python3"
  },
  "language_info": {
   "codemirror_mode": {
    "name": "ipython",
    "version": 3
   },
   "file_extension": ".py",
   "mimetype": "text/x-python",
   "name": "python",
   "nbconvert_exporter": "python",
   "pygments_lexer": "ipython3",
   "version": "3.6.10"
  }
 },
 "nbformat": 4,
 "nbformat_minor": 2
}
