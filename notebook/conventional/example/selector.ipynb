{
 "cells": [
  {
   "cell_type": "code",
   "execution_count": 91,
   "metadata": {},
   "outputs": [],
   "source": [
    "import json\n",
    "\n",
    "def init_dataset_table_indexes():\n",
    "    dt_indexes = {}\n",
    "    dt_indexes[\"selected\"] = []\n",
    "    return dt_indexes\n",
    "        \n",
    "# dataset_table_indexes(dt_indexes) を辞書形式で読み込み\n",
    "def load_dataset_table_indexes(path):\n",
    "    with open(path, \"r\") as f:\n",
    "        dt_indexes = json.load(f)\n",
    "    return dt_indexes"
   ]
  },
  {
   "cell_type": "code",
   "execution_count": 98,
   "metadata": {},
   "outputs": [],
   "source": [
    "import json\n",
    "import numpy as np\n",
    "import torch\n",
    "\n",
    "class DataSelector:\n",
    "    def __init__(self, dataset_table, dataset_table_indexes):\n",
    "        self.dt = dataset_table\n",
    "        self.dt_indexes = dataset_table_indexes\n",
    "        self.labels = sorted(dataset_table[\"label\"].unique())\n",
    "        # 選択済みのデータを削除済みのdataset_table\n",
    "        self.dropped_dt = self.__drop_selected_data(dataset_table, dataset_table_indexes)\n",
    "        \n",
    "    def __drop_selected_data(self, dataset_table, dataset_table_indexes):\n",
    "        dt = dataset_table.drop(index=dataset_table_indexes[\"selected\"])\n",
    "        dt = dt.reset_index(drop=True)\n",
    "        return dt\n",
    "    \n",
    "    def randomly_add(self, dataN, seed=None):\n",
    "        dt_labelby = self.dropped_dt.groupby(\"label\")\n",
    "        for label in self.labels:\n",
    "            df = dt_labelby.get_group(label)\n",
    "            df = df.sample(n=dataN, random_state=seed)\n",
    "            self.dt_indexes[\"selected\"] += list(df[\"index\"].values)\n",
    "        return self.dt_indexes\n",
    "    \n",
    "    def out_dataset_table_indexes(self):\n",
    "        return self.dt_indexes\n",
    "    \n",
    "    # dataset_table_indexes(dt_indexes) をjson形式で保存\n",
    "    def save_dataset_table_indexes(self, savepath=\"./dt_indexes_v1.json\"):\n",
    "        dt_indexes = self.dt_indexes\n",
    "        dt_indexes[\"selected\"] = [int(index) for index in dt_indexes[\"selected\"]]\n",
    "        with open(savepath, \"w\") as f:\n",
    "            json.dump(dt_indexes, f, indent=4)\n",
    "    \n",
    "    def out_selected_dataset(self):\n",
    "        selected_dataset = []\n",
    "        for index in self.dt_indexes[\"selected\"]:\n",
    "            irow = self.dt[self.dt[\"index\"]==index]\n",
    "            image = json.loads(irow[\"image\"].iloc[0])\n",
    "            image = np.array(image)\n",
    "            image = torch.from_numpy(image.astype(np.float32)).clone()\n",
    "            label = irow[\"label\"].iloc[0]\n",
    "            selected_dataset.append((image, label))\n",
    "        return selected_dataset"
   ]
  },
  {
   "cell_type": "code",
   "execution_count": 49,
   "metadata": {},
   "outputs": [],
   "source": [
    "# dataset_tableを読み込むためのstub\n",
    "import pandas as pd\n",
    "import sqlite3\n",
    "\n",
    "def load(dbpath, tablename=\"dataset\"):\n",
    "    conn=sqlite3.connect(dbpath)\n",
    "    c = conn.cursor()\n",
    "    dataset = pd.read_sql('SELECT * FROM ' + tablename, conn)\n",
    "    return dataset"
   ]
  },
  {
   "cell_type": "code",
   "execution_count": 50,
   "metadata": {},
   "outputs": [],
   "source": [
    "dbpath = \"./assets/data_v1.db\"\n",
    "dt = load(dbpath)"
   ]
  },
  {
   "cell_type": "markdown",
   "metadata": {},
   "source": [
    "### 1反復目のテスト"
   ]
  },
  {
   "cell_type": "code",
   "execution_count": 94,
   "metadata": {
    "scrolled": true
   },
   "outputs": [],
   "source": [
    "dt_indexes = init_dataset_table_indexes() # dt_indexes 初期化\n",
    "selector = DataSelector(dt, dt_indexes)\n",
    "dt_indexes2 = selector.randomly_add(dataN=10, seed=1)\n",
    "selected_dataset2 = selector.out_selected_dataset()"
   ]
  },
  {
   "cell_type": "code",
   "execution_count": 95,
   "metadata": {
    "scrolled": true
   },
   "outputs": [
    {
     "name": "stdout",
     "output_type": "stream",
     "text": [
      "インデックス数:\n",
      "30\n",
      "インデックス:\n",
      "[2764, 4767, 3814, 3499, 2735, 3922, 2701, 1179, 932, 792, 7764, 9767, 8814, 8499, 7735, 8922, 7701, 6179, 5932, 5792, 12764, 14767, 13814, 13499, 12735, 13922, 12701, 11179, 10932, 10792]\n"
     ]
    }
   ],
   "source": [
    "print(\"インデックス数:\")\n",
    "print(len(dt_indexes2[\"selected\"]))\n",
    "print(\"インデックス:\")\n",
    "print(dt_indexes2[\"selected\"])"
   ]
  },
  {
   "cell_type": "code",
   "execution_count": 97,
   "metadata": {},
   "outputs": [],
   "source": [
    "savepath = \"./assets/dt_indexes_v1.json\"\n",
    "selector.save_dataset_table_indexes(savepath)"
   ]
  },
  {
   "cell_type": "code",
   "execution_count": 99,
   "metadata": {
    "scrolled": true
   },
   "outputs": [],
   "source": [
    "import torch\n",
    "train = selected_dataset2\n",
    "trainloader = torch.utils.data.DataLoader(train, batch_size=128, shuffle=True, num_workers=2)"
   ]
  },
  {
   "cell_type": "markdown",
   "metadata": {},
   "source": [
    "### 2反復目のテスト"
   ]
  },
  {
   "cell_type": "code",
   "execution_count": 100,
   "metadata": {},
   "outputs": [],
   "source": [
    "selector = DataSelector(dt, dt_indexes2)\n",
    "dt_indexes3 = selector.randomly_add(dataN=10, seed=1)\n",
    "selected_dataset3 = selector.out_selected_dataset()"
   ]
  },
  {
   "cell_type": "code",
   "execution_count": 101,
   "metadata": {},
   "outputs": [
    {
     "name": "stdout",
     "output_type": "stream",
     "text": [
      "インデックス数:\n",
      "60\n",
      "インデックス:\n",
      "[2764, 4767, 3814, 3499, 2735, 3922, 2701, 1179, 932, 792, 7764, 9767, 8814, 8499, 7735, 8922, 7701, 6179, 5932, 5792, 12764, 14767, 13814, 13499, 12735, 13922, 12701, 11179, 10932, 10792, 2800, 2988, 4134, 4288, 4260, 4186, 2120, 1743, 1383, 4063, 7800, 7988, 9134, 9288, 9260, 9186, 7120, 6743, 6383, 9063, 12800, 12988, 14134, 14288, 14260, 14186, 12120, 11743, 11383, 14063]\n"
     ]
    }
   ],
   "source": [
    "print(\"インデックス数:\")\n",
    "print(len(dt_indexes3[\"selected\"]))\n",
    "print(\"インデックス:\")\n",
    "print(dt_indexes3[\"selected\"])"
   ]
  },
  {
   "cell_type": "code",
   "execution_count": 102,
   "metadata": {},
   "outputs": [],
   "source": [
    "savepath = \"./assets/dt_indexes_v2.json\"\n",
    "selector.save_dataset_table_indexes(savepath)"
   ]
  },
  {
   "cell_type": "code",
   "execution_count": 103,
   "metadata": {},
   "outputs": [],
   "source": [
    "import torch\n",
    "train = selected_dataset2\n",
    "trainloader = torch.utils.data.DataLoader(train, batch_size=128, shuffle=True, num_workers=2)"
   ]
  },
  {
   "cell_type": "code",
   "execution_count": 106,
   "metadata": {},
   "outputs": [
    {
     "name": "stdout",
     "output_type": "stream",
     "text": [
      "[2764, 4767, 3814, 3499, 2735, 3922, 2701, 1179, 932, 792, 7764, 9767, 8814, 8499, 7735, 8922, 7701, 6179, 5932, 5792, 12764, 14767, 13814, 13499, 12735, 13922, 12701, 11179, 10932, 10792, 2800, 2988, 4134, 4288, 4260, 4186, 2120, 1743, 1383, 4063, 7800, 7988, 9134, 9288, 9260, 9186, 7120, 6743, 6383, 9063, 12800, 12988, 14134, 14288, 14260, 14186, 12120, 11743, 11383, 14063]\n"
     ]
    }
   ],
   "source": [
    "path = \"./assets/dt_indexes_v2.json\"\n",
    "dt_indexes3 = load_dataset_table_indexes(path)\n",
    "print(dt_indexes3[\"selected\"])"
   ]
  }
 ],
 "metadata": {
  "kernelspec": {
   "display_name": "Python 3",
   "language": "python",
   "name": "python3"
  },
  "language_info": {
   "codemirror_mode": {
    "name": "ipython",
    "version": 3
   },
   "file_extension": ".py",
   "mimetype": "text/x-python",
   "name": "python",
   "nbconvert_exporter": "python",
   "pygments_lexer": "ipython3",
   "version": "3.6.10"
  }
 },
 "nbformat": 4,
 "nbformat_minor": 2
}
