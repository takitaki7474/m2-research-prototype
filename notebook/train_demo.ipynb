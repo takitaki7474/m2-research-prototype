{
 "cells": [
  {
   "cell_type": "code",
   "execution_count": 3,
   "metadata": {},
   "outputs": [
    {
     "name": "stderr",
     "output_type": "stream",
     "text": [
      "/Users/ootaryuunosuke/.pyenv/versions/anaconda3-5.1.0/lib/python3.6/site-packages/h5py/__init__.py:36: FutureWarning: Conversion of the second argument of issubdtype from `float` to `np.floating` is deprecated. In future, it will be treated as `np.float64 == np.dtype(float).type`.\n",
      "  from ._conv import register_converters as _register_converters\n"
     ]
    }
   ],
   "source": [
    "import chainer\n",
    "import chainer.links as L\n",
    "import chainer.functions as F\n",
    "from chainer import iterators, training, optimizers, serializers\n",
    "from chainer.training import extensions"
   ]
  },
  {
   "cell_type": "code",
   "execution_count": 5,
   "metadata": {},
   "outputs": [],
   "source": [
    "# cifar10の読み込み\n",
    "def load_cifar10():\n",
    "    (train, test) = chainer.datasets.get_cifar10()\n",
    "    return train, test\n",
    "\n",
    "# 特定クラスラベル画像の取得\n",
    "def get_one_label_data(class_label, dataset):\n",
    "    new_data = []\n",
    "    for data in dataset:\n",
    "        label = data[1]\n",
    "        if label == class_label:\n",
    "            new_data.append(data)\n",
    "    return new_data\n",
    "\n",
    "# 特定クラスラベルのtrain, testデータセットを取得\n",
    "def get_one_label_dataset(class_label, train, test):\n",
    "    train = get_one_label_data(class_label, train)\n",
    "    test = get_one_label_data(class_label, test)\n",
    "    return train, test\n",
    "\n",
    "# 特定クラスラベルリストのtrain, testデータセットを取得\n",
    "def get_specific_label_dataset(class_label_list, train, test):\n",
    "    new_train = []\n",
    "    new_test = []\n",
    "    for label in class_label_list:\n",
    "        got_train, got_test = get_one_label_dataset(label, train, test)\n",
    "        new_train += got_train\n",
    "        new_test += got_test\n",
    "    return new_train, new_test"
   ]
  },
  {
   "cell_type": "code",
   "execution_count": 6,
   "metadata": {},
   "outputs": [],
   "source": [
    "class_label_list = [1,2,7]\n",
    "\n",
    "train, test = load_cifar10()\n",
    "train, test = get_specific_label_dataset(class_label_list, train, test)"
   ]
  },
  {
   "cell_type": "code",
   "execution_count": 16,
   "metadata": {},
   "outputs": [],
   "source": [
    "class Cifar10Model(chainer.Chain):\n",
    "\n",
    "    def __init__(self, n_out=10):\n",
    "        super(Cifar10Model,self).__init__()\n",
    "        with self.init_scope():\n",
    "            self.conv1 = L.Convolution2D(3, 32, 3, pad=1)\n",
    "            self.conv2 = L.Convolution2D(32, 32, 3, pad=1)\n",
    "            self.conv3 = L.Convolution2D(32, 32, 3, pad=1)\n",
    "            self.conv4 = L.Convolution2D(32, 32, 3, pad=1)\n",
    "            self.conv5 = L.Convolution2D(32, 32, 3, pad=1)\n",
    "            self.conv6 = L.Convolution2D(32, 32, 3, pad=1)\n",
    "            self.l1 = L.Linear(512, 512)\n",
    "            self.l2 = L.Linear(512, n_out)\n",
    "\n",
    "    def __call__(self, x):\n",
    "        h = F.relu(self.conv1(x))\n",
    "        h = F.max_pooling_2d(F.relu(self.conv2(h)), 2)\n",
    "        h = F.relu(self.conv3(h))\n",
    "        h = F.max_pooling_2d(F.relu(self.conv4(h)), 2)\n",
    "        h = F.relu(self.conv5(h))\n",
    "        h = F.max_pooling_2d(F.relu(self.conv6(h)), 2)\n",
    "        h = F.dropout(F.relu(self.l1(h)))\n",
    "        return self.l2(h)"
   ]
  },
  {
   "cell_type": "code",
   "execution_count": 22,
   "metadata": {},
   "outputs": [],
   "source": [
    "class MyNet(chainer.Chain):\n",
    "\n",
    "    def __init__(self, n_out=10):\n",
    "        super(MyNet, self).__init__()\n",
    "        with self.init_scope():\n",
    "            self.conv1 = L.Convolution2D(None, 32, 3, 3, 1)\n",
    "            self.conv2 = L.Convolution2D(32, 32, 3, 3, 1)\n",
    "            self.conv3 = L.Convolution2D(32, 32, 3, 3, 1)\n",
    "            self.conv4 = L.Convolution2D(32, 32, 3, 3, 1)\n",
    "            self.conv5 = L.Convolution2D(32, 32, 3, 3, 1)\n",
    "            self.conv6 = L.Convolution2D(32, 32, 3, 3, 1)\n",
    "            self.fc1 = L.Linear(None, 512)\n",
    "            self.fc2 = L.Linear(512, n_out)\n",
    "\n",
    "    def __call__(self, x):\n",
    "        h = F.relu(self.conv1(x))\n",
    "        h = F.max_pooling_2d(F.relu(self.conv2(h)), 2)\n",
    "        h = F.relu(self.conv3(h))\n",
    "        h = F.max_pooling_2d(F.relu(self.conv4(h)), 2)\n",
    "        h = F.relu(self.conv5(h))\n",
    "        h = F.max_pooling_2d(F.relu(self.conv6(h)), 2)\n",
    "        h = F.dropout(F.relu(self.fc1(h)))\n",
    "        h = self.fc2(h)\n",
    "        return h"
   ]
  },
  {
   "cell_type": "code",
   "execution_count": 4,
   "metadata": {},
   "outputs": [],
   "source": [
    "class Cifar10(chainer.Chain):\n",
    "\n",
    "    def __init__(self, n_out=3):\n",
    "        super(Cifar10, self).__init__()\n",
    "        with self.init_scope():\n",
    "            self.conv1 = L.Convolution2D(None, 32, 3, 3, 1)\n",
    "            self.conv2 = L.Convolution2D(32, 32, 3, 3, 1)\n",
    "            self.conv3 = L.Convolution2D(32, 32, 3, 3, 1)\n",
    "            self.conv4 = L.Convolution2D(32, 32, 3, 3, 1)\n",
    "            self.conv5 = L.Convolution2D(32, 32, 3, 3, 1)\n",
    "            self.conv6 = L.Convolution2D(32, 32, 3, 3, 1)\n",
    "            self.fc1 = L.Linear(None, 512)\n",
    "            self.fc2 = L.Linear(512, n_out)\n",
    "\n",
    "    def __call__(self, x):\n",
    "        h = F.relu(self.conv1(x))\n",
    "        h = F.max_pooling_2d(F.relu(self.conv2(h)), 2)\n",
    "        h = F.relu(self.conv3(h))\n",
    "        h = F.max_pooling_2d(F.relu(self.conv4(h)), 2)\n",
    "        h = F.relu(self.conv5(h))\n",
    "        h = F.max_pooling_2d(F.relu(self.conv6(h)), 2)\n",
    "        h = F.dropout(F.relu(self.fc1(h)))\n",
    "        h = self.fc2(h)\n",
    "        return h"
   ]
  },
  {
   "cell_type": "code",
   "execution_count": 23,
   "metadata": {
    "scrolled": false
   },
   "outputs": [
    {
     "name": "stdout",
     "output_type": "stream",
     "text": [
      "epoch       main/loss   validation/main/loss  main/accuracy  validation/main/accuracy\n",
      "\u001b[J1           1.99875     1.76195               0.228001       0.324862                  \n"
     ]
    }
   ],
   "source": [
    "batch_size = 128\n",
    "epoch = 1\n",
    "\n",
    "#model = L.Classifier(Cifar10Model())\n",
    "model = L.Classifier(MyNet())\n",
    "optimizer = chainer.optimizers.Adam()\n",
    "optimizer.setup(model)\n",
    "\n",
    "train_iter = chainer.iterators.SerialIterator(train, batch_size)\n",
    "test_iter = chainer.iterators.SerialIterator(test, batch_size ,repeat=False, shuffle=False)\n",
    "\n",
    "updater = training.StandardUpdater(train_iter, optimizer, device=-1)\n",
    "trainer = training.Trainer(updater, (epoch, 'epoch'), out=\"logs\")\n",
    "trainer.extend(extensions.Evaluator(test_iter, model, device=-1))\n",
    "trainer.extend(extensions.LogReport())\n",
    "trainer.extend(extensions.PrintReport( ['epoch', 'main/loss', 'validation/main/loss', 'main/accuracy', 'validation/main/accuracy']))                                                                                          \n",
    "trainer.run()"
   ]
  },
  {
   "cell_type": "code",
   "execution_count": null,
   "metadata": {},
   "outputs": [],
   "source": []
  }
 ],
 "metadata": {
  "kernelspec": {
   "display_name": "Python 3",
   "language": "python",
   "name": "python3"
  },
  "language_info": {
   "codemirror_mode": {
    "name": "ipython",
    "version": 3
   },
   "file_extension": ".py",
   "mimetype": "text/x-python",
   "name": "python",
   "nbconvert_exporter": "python",
   "pygments_lexer": "ipython3",
   "version": "3.6.4"
  }
 },
 "nbformat": 4,
 "nbformat_minor": 2
}
