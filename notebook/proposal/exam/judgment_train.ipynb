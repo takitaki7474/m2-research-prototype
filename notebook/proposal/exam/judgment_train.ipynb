{
 "cells": [
  {
   "cell_type": "code",
   "execution_count": 19,
   "metadata": {},
   "outputs": [],
   "source": [
    "import torch.nn as nn\n",
    "import torch.nn.functional as F\n",
    "\n",
    "class LeNet(nn.Module):\n",
    "    def __init__(self, out=3):\n",
    "        super(LeNet, self).__init__()\n",
    "        self.conv1 = nn.Conv2d(3, 16, 3, 1, padding=1) # (1) 32*32*3 -> 32*32*16\n",
    "        self.conv2 = nn.Conv2d(16, 32, 3, 1, padding=1) # (3) 16*16*16 -> 16*16*32\n",
    "        self.conv3 = nn.Conv2d(32, 64, 3, 1, padding=1) # (5) 8*8*32 -> 8*8*64\n",
    "        self.fc1 = nn.Linear(4*4*64, 500)\n",
    "        self.dropout1 = nn.Dropout(0.5)\n",
    "        self.fc2 = nn.Linear(500, out)\n",
    "\n",
    "    def forward(self, x):\n",
    "        x = F.relu(self.conv1(x))\n",
    "        x = F.max_pool2d(x, 2, 2) # (2) 32*32*16 -> 16*16*16\n",
    "        x = F.relu(self.conv2(x))\n",
    "        x = F.max_pool2d(x, 2, 2) # (4) 16*16*32 -> 8*8*32\n",
    "        x = F.relu(self.conv3(x))\n",
    "        x = F.max_pool2d(x, 2, 2) # (6) 8*8*64 -> 4*4*64\n",
    "        x = x.view(-1, 4*4*64)\n",
    "        x = F.relu(self.fc1(x))\n",
    "        feature = x\n",
    "        x = self.dropout1(x)\n",
    "        x = self.fc2(x)\n",
    "        return x, feature"
   ]
  },
  {
   "cell_type": "code",
   "execution_count": 24,
   "metadata": {},
   "outputs": [],
   "source": [
    "from collections import defaultdict\n",
    "import torchvision\n",
    "import torchvision.transforms as transforms\n",
    "\n",
    "def download_cifar10(path=\"../../../prototype/proposal/data/\"):\n",
    "    transform = transforms.Compose([transforms.ToTensor(), transforms.Normalize((0.5, 0.5, 0.5), (0.5, 0.5, 0.5))])\n",
    "    train = torchvision.datasets.CIFAR10(root=path, train=True, download=True, transform=transform)\n",
    "    test = torchvision.datasets.CIFAR10(root=path, train=False, download=True, transform=transform)\n",
    "    return train, test\n",
    "\n",
    "def filtering(train, test, classes=[1,2,8]):\n",
    "    train = [d for d in train if d[1] in classes]\n",
    "    test = [d for d in test if d[1] in classes]\n",
    "    return train, test\n",
    "\n",
    "def update_labels(train, test):\n",
    "    updated = [[], []]\n",
    "    mapping_dict = defaultdict(lambda: -1)\n",
    "    for i, t in enumerate([train, test]):\n",
    "        t = sorted(t, key=lambda x:x[1])\n",
    "        new_label = 0\n",
    "        for data in t:\n",
    "            if mapping_dict[data[1]] == -1:\n",
    "                mapping_dict[data[1]] = new_label\n",
    "                new_label += 1\n",
    "            updated[i].append((data[0], mapping_dict[data[1]]))\n",
    "    train, test = updated\n",
    "    return train, test\n",
    "\n",
    "def insert_index(train):\n",
    "    inserted_train = []\n",
    "    for i, (data, label) in enumerate(train):\n",
    "        inserted_train.append((data, label, i))\n",
    "    return inserted_train\n",
    "\n",
    "def make_dataloader(train, test, batch_size=128):\n",
    "    trainloader = torch.utils.data.DataLoader(train, batch_size=batch_size, shuffle=True, num_workers=2)\n",
    "    testloader = torch.utils.data.DataLoader(test, batch_size=batch_size, shuffle=False, num_workers=2)\n",
    "    return trainloader, testloader"
   ]
  },
  {
   "cell_type": "code",
   "execution_count": 29,
   "metadata": {},
   "outputs": [
    {
     "name": "stdout",
     "output_type": "stream",
     "text": [
      "Files already downloaded and verified\n",
      "Files already downloaded and verified\n"
     ]
    }
   ],
   "source": [
    "train, test = download_cifar10()\n",
    "train, test = filtering(train, test)\n",
    "train, test = update_labels(train, test)\n",
    "train = insert_index(train)\n",
    "trainloader, testloader = make_dataloader(train, test)"
   ]
  },
  {
   "cell_type": "code",
   "execution_count": 33,
   "metadata": {},
   "outputs": [
    {
     "name": "stdout",
     "output_type": "stream",
     "text": [
      "3\n",
      "128\n",
      "128\n",
      "128\n"
     ]
    }
   ],
   "source": [
    "for i, data in enumerate(trainloader):\n",
    "    if i == 1:\n",
    "        break\n",
    "    print(len(data))\n",
    "    print(len(data[0]))\n",
    "    print(len(data[1]))\n",
    "    print(len(data[2]))"
   ]
  },
  {
   "cell_type": "code",
   "execution_count": null,
   "metadata": {},
   "outputs": [],
   "source": []
  },
  {
   "cell_type": "code",
   "execution_count": 1,
   "metadata": {},
   "outputs": [],
   "source": [
    "from collections import defaultdict\n",
    "import torch\n",
    "import torch.nn as nn\n",
    "import torch.optim as optim\n",
    "from typing import List, Tuple, TypeVar\n",
    "\n",
    "def process(trainloader, testloader, model, epochs: int, lr: float, lr_scheduling=None, log_savepath=None):\n",
    "\n",
    "    log_dict = defaultdict(list)\n",
    "    criterion = nn.CrossEntropyLoss()\n",
    "    optimizer = optim.SGD(model.parameters(), lr=lr, momentum=0.9)\n",
    "    if lr_scheduling is not None:\n",
    "        scheduler = torch.optim.lr_scheduler.LambdaLR(optimizer, lr_scheduling)\n",
    "\n",
    "    def train(trainloader) -> Tuple[float, float]:\n",
    "        sum_loss, sum_correct, sum_dataN = 0.0, 0, 0\n",
    "        for (inputs, labels) in trainloader:\n",
    "            optimizer.zero_grad()\n",
    "            outputs, _ = model(inputs)\n",
    "            loss = criterion(outputs, labels)\n",
    "            sum_loss += loss.item()\n",
    "            _, predicted = outputs.max(1)\n",
    "            sum_dataN += labels.size(0)\n",
    "            sum_correct += (predicted == labels).sum().item()\n",
    "            loss.backward()\n",
    "            optimizer.step()\n",
    "        train_loss = sum_loss*trainloader.batch_size/len(trainloader.dataset)\n",
    "        train_acc = float(sum_correct/sum_dataN)\n",
    "        return train_loss, train_acc\n",
    "\n",
    "    def test(testloader) -> Tuple[float, float]:\n",
    "        sum_loss, sum_correct, sum_dataN = 0.0, 0, 0\n",
    "        for (inputs, labels) in testloader:\n",
    "            outputs, _ = model(inputs)\n",
    "            loss = criterion(outputs, labels)\n",
    "            sum_loss += loss.item()\n",
    "            _, predicted = outputs.max(1)\n",
    "            sum_dataN += labels.size(0)\n",
    "            sum_correct += (predicted == labels).sum().item()\n",
    "        test_loss = sum_loss*testloader.batch_size/len(testloader.dataset)\n",
    "        test_acc = float(sum_correct/sum_dataN)\n",
    "        return test_loss, test_acc\n",
    "\n",
    "    print(\"\\n{0:<13}{1:<13}{2:<13}{3:<13}{4:<13}{5:<6}\".format(\"epoch\",\"train/loss\",\"train/acc\",\"test/loss\",\"test/acc\",\"lr\"))\n",
    "    logging = TrainLogging()\n",
    "    for epoch in range(1, epochs + 1):\n",
    "        train_loss, train_acc = train(trainloader)\n",
    "        test_loss, test_acc = test(testloader)\n",
    "        lr = optimizer.param_groups[-1][\"lr\"]\n",
    "        print(\"{0:<13}{1:<13.5f}{2:<13.5f}{3:<13.5f}{4:<13.5f}{5:<6.6f}\".format(epoch, train_loss, train_acc, test_loss, test_acc, lr))\n",
    "        logging.stack(epoch=epoch, train_loss=train_loss, train_acc=train_acc, test_loss=test_loss, test_acc=test_acc, lr=lr)\n",
    "        if lr_scheduling is not None: scheduler.step()\n",
    "    if log_savepath is not None:\n",
    "        logging.save(log_savepath)\n",
    "\n",
    "    return model"
   ]
  },
  {
   "cell_type": "code",
   "execution_count": null,
   "metadata": {},
   "outputs": [],
   "source": []
  }
 ],
 "metadata": {
  "kernelspec": {
   "display_name": "Python 3",
   "language": "python",
   "name": "python3"
  },
  "language_info": {
   "codemirror_mode": {
    "name": "ipython",
    "version": 3
   },
   "file_extension": ".py",
   "mimetype": "text/x-python",
   "name": "python",
   "nbconvert_exporter": "python",
   "pygments_lexer": "ipython3",
   "version": "3.6.10"
  }
 },
 "nbformat": 4,
 "nbformat_minor": 2
}
