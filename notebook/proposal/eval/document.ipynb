{
 "cells": [
  {
   "cell_type": "markdown",
   "metadata": {},
   "source": [
    "# eval1 -------------------------------------------\n",
    "## v1-v10\n",
    "\n",
    "### 提案方法でフィーチャのクエリを更新し続けて学習した場合\n",
    "- 3クラス分類: Cifar10[1,2,8]\n",
    "- 初期訓練データ数: 300\n",
    "- 追加訓練データ数: 300\n",
    "- 各反復のデータ数: [300, 600, 900, 1200, 1500, 1800, 2100, 2400, 2700, 3000]\n",
    "- eval_lossの設定値:\n",
    " - a=50\n",
    " - n=20"
   ]
  },
  {
   "cell_type": "markdown",
   "metadata": {},
   "source": [
    "# eval2 -------------------------------------------\n",
    "## v1-v10\n",
    "\n",
    "### 提案方法でフィーチャのクエリを一切更新せずに学習した場合\n",
    "- 3クラス分類: Cifar10[1,2,8]\n",
    "- 初期訓練データ数: 300\n",
    "- 追加訓練データ数: 300\n",
    "- 各反復のデータ数: [300, 600, 900, 1200, 1500, 1800, 2100, 2400, 2700, 3000]\n",
    "- eval_lossの設定値:\n",
    " - a=50\n",
    " - n=20"
   ]
  },
  {
   "cell_type": "code",
   "execution_count": null,
   "metadata": {},
   "outputs": [],
   "source": []
  }
 ],
 "metadata": {
  "kernelspec": {
   "display_name": "Python 3",
   "language": "python",
   "name": "python3"
  },
  "language_info": {
   "codemirror_mode": {
    "name": "ipython",
    "version": 3
   },
   "file_extension": ".py",
   "mimetype": "text/x-python",
   "name": "python",
   "nbconvert_exporter": "python",
   "pygments_lexer": "ipython3",
   "version": "3.6.10"
  }
 },
 "nbformat": 4,
 "nbformat_minor": 2
}
