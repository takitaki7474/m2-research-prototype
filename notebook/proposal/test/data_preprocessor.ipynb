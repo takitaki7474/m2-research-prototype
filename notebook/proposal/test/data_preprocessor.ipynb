{
 "cells": [
  {
   "cell_type": "code",
   "execution_count": 5,
   "metadata": {},
   "outputs": [],
   "source": [
    "import torchvision\n",
    "import torchvision.transforms as transforms\n",
    "\n",
    "def download_cifar10(savepath):\n",
    "    transform = transforms.Compose([transforms.ToTensor(), transforms.Normalize((0.5, 0.5, 0.5), (0.5, 0.5, 0.5))])\n",
    "    train = torchvision.datasets.CIFAR10(root=savepath, train=True, download=True, transform=transform)\n",
    "    test = torchvision.datasets.CIFAR10(root=savepath, train=False, download=True, transform=transform)\n",
    "    return train, test"
   ]
  },
  {
   "cell_type": "code",
   "execution_count": 51,
   "metadata": {},
   "outputs": [],
   "source": [
    "from collections import defaultdict\n",
    "\n",
    "class DataPreprocessor:\n",
    "    \n",
    "    def __init__(self, train, test):\n",
    "        self.train = train\n",
    "        self.test = test\n",
    "    \n",
    "    def out_dataset(self):\n",
    "        return self.train, self.test\n",
    "    \n",
    "    def show_length(self):\n",
    "        print(\"\\n------------------------------------------------------------\")\n",
    "        print(\"Number of train data:{0:>9}\".format(len(self.train)))\n",
    "        print(\"Number of test data:{0:>9}\".format(len(self.test)))\n",
    "        \n",
    "    def show_labels(self):\n",
    "        texts = [\"Number of train data\", \"Number of test data\"]\n",
    "        for i, dataset in enumerate([self.train, self.test]):\n",
    "            label_count = defaultdict(int)\n",
    "            for data in dataset:\n",
    "                label_count[data[1]] += 1\n",
    "            print(\"\\n{0}  ----------------------------------------------\".format(texts[i]))\n",
    "            label_count = sorted(label_count.items())\n",
    "            sum = 0\n",
    "            for label, count in label_count:\n",
    "                print(\"label:  {0}    count:  {1}\".format(label, count))\n",
    "                sum += count\n",
    "            print(\"total:  {0}\".format(sum))\n",
    "            \n",
    "    # labelsに含まれるラベルのデータを選択\n",
    "    def select_by_label(self, labels=[]):\n",
    "        self.train = [data for data in self.train if data[1] in labels]\n",
    "        self.test = [data for data in self.test if data[1] in labels]\n",
    "    \n",
    "    # 正解ラベルを0からの連番に更新\n",
    "    def update_labels(self):\n",
    "        updated = [[], []]\n",
    "        label_mapping = defaultdict(lambda: -1)\n",
    "        for i, dataset in enumerate([self.train, self.test]):\n",
    "            dataset = sorted(dataset, key=lambda x:x[1])\n",
    "            new_label = 0\n",
    "            for data in dataset:\n",
    "                if label_mapping[data[1]] == -1:\n",
    "                    label_mapping[data[1]] = new_label\n",
    "                    new_label += 1\n",
    "                updated[i].append((data[0], label_mapping[data[1]]))\n",
    "        self.train, self.test = updated\n",
    "        print(\"\\nChanged the label.  ----------------------------------------------\")\n",
    "        for old, new in label_mapping.items():\n",
    "            print(\"label:  {0} -> {1}\".format(old, new))\n",
    "\n",
    "\"\"\"\n",
    "    # dataN(1クラスのデータ数)分のデータをランダムに選択\n",
    "    def select_by_dataN(self, dataN, train=True):\n",
    "        selected = []\n",
    "        label_count = defaultdict(int)\n",
    "        dataset = self.train if train else self.test\n",
    "        for data in dataset:\n",
    "            if label_count[data[1]] < dataN:\n",
    "                selected.append(data)\n",
    "                label_count[data[1]] += 1\n",
    "        if train : self.train = selected\n",
    "        if not train: self.test = selected\n",
    "\"\"\""
   ]
  },
  {
   "cell_type": "code",
   "execution_count": 48,
   "metadata": {},
   "outputs": [
    {
     "name": "stdout",
     "output_type": "stream",
     "text": [
      "Files already downloaded and verified\n",
      "Files already downloaded and verified\n"
     ]
    }
   ],
   "source": [
    "savepath = \"../../prototype/data\"\n",
    "train, test = download_cifar10(savepath)"
   ]
  },
  {
   "cell_type": "code",
   "execution_count": 49,
   "metadata": {},
   "outputs": [
    {
     "name": "stdout",
     "output_type": "stream",
     "text": [
      "\n",
      "Changed the label.  ----------------------------------------------\n",
      "label:  1 -> 0\n",
      "label:  2 -> 1\n",
      "label:  8 -> 2\n",
      "\n",
      "Number of train data  ----------------------------------------------\n",
      "label:  0    count:  50\n",
      "label:  1    count:  50\n",
      "label:  2    count:  50\n",
      "total:  150\n",
      "\n",
      "Number of test data  ----------------------------------------------\n",
      "label:  0    count:  30\n",
      "label:  1    count:  30\n",
      "label:  2    count:  30\n",
      "total:  90\n"
     ]
    }
   ],
   "source": [
    "data_preprocessor = DataPreprocessor(train, test)\n",
    "data_preprocessor.select_by_label(labels=[1,2,8])\n",
    "#data_preprocessor.select_by_dataN(dataN=50, train=True)\n",
    "#data_preprocessor.select_by_dataN(dataN=30, train=False)\n",
    "data_preprocessor.update_labels()\n",
    "data_preprocessor.show_labels()\n",
    "train, test = data_preprocessor.out_dataset()"
   ]
  },
  {
   "cell_type": "code",
   "execution_count": null,
   "metadata": {},
   "outputs": [],
   "source": []
  }
 ],
 "metadata": {
  "kernelspec": {
   "display_name": "Python 3",
   "language": "python",
   "name": "python3"
  },
  "language_info": {
   "codemirror_mode": {
    "name": "ipython",
    "version": 3
   },
   "file_extension": ".py",
   "mimetype": "text/x-python",
   "name": "python",
   "nbconvert_exporter": "python",
   "pygments_lexer": "ipython3",
   "version": "3.6.10"
  }
 },
 "nbformat": 4,
 "nbformat_minor": 2
}
