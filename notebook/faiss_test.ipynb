{
 "cells": [
  {
   "cell_type": "code",
   "execution_count": 2,
   "metadata": {},
   "outputs": [],
   "source": [
    "import faiss\n",
    "import numpy as np"
   ]
  },
  {
   "cell_type": "code",
   "execution_count": 59,
   "metadata": {},
   "outputs": [],
   "source": [
    "def f(s, diff, dim=10):\n",
    "    ans = [s]\n",
    "    for i in range(dim-1):\n",
    "        s += diff\n",
    "        ans.append(s)\n",
    "    return ans"
   ]
  },
  {
   "cell_type": "code",
   "execution_count": 66,
   "metadata": {},
   "outputs": [
    {
     "data": {
      "text/plain": [
       "array([[   0,    1,    2,    3,    4,    5,    6,    7,    8,    9],\n",
       "       [   0,    2,    4,    6,    8,   10,   12,   14,   16,   18],\n",
       "       [  10,   11,   12,   13,   14,   15,   16,   17,   18,   19],\n",
       "       [ 100,  101,  102,  103,  104,  105,  106,  107,  108,  109],\n",
       "       [ 100,  102,  104,  106,  108,  110,  112,  114,  116,  118],\n",
       "       [1000, 1001, 1002, 1003, 1004, 1005, 1006, 1007, 1008, 1009]])"
      ]
     },
     "execution_count": 66,
     "metadata": {},
     "output_type": "execute_result"
    }
   ],
   "source": [
    "np.asarray([f(0,1), f(0,2), f(10, 1), f(100, 1), f(100,2), f(1000,1)])"
   ]
  },
  {
   "cell_type": "code",
   "execution_count": 76,
   "metadata": {},
   "outputs": [
    {
     "name": "stdout",
     "output_type": "stream",
     "text": [
      "データ: \n",
      " [[   0    1    2    3    4    5    6    7    8    9]\n",
      " [   0    2    4    6    8   10   12   14   16   18]\n",
      " [  10   11   12   13   14   15   16   17   18   19]\n",
      " [ 100  101  102  103  104  105  106  107  108  109]\n",
      " [ 100  102  104  106  108  110  112  114  116  118]\n",
      " [1000 1001 1002 1003 1004 1005 1006 1007 1008 1009]] \n",
      "\n"
     ]
    }
   ],
   "source": [
    "d = 10                           # dimension\n",
    "nb = 6                   # database size\n",
    "nq = 1                       # nb of queries\n",
    "xb = np.asarray([f(0,1), f(0,2), f(10, 1), f(100, 1), f(100,2), f(1000,1)])\n",
    "print(\"データ: \\n\", xb, \"\\n\")\n",
    "xb = xb.astype('float32')"
   ]
  },
  {
   "cell_type": "code",
   "execution_count": 77,
   "metadata": {},
   "outputs": [
    {
     "name": "stdout",
     "output_type": "stream",
     "text": [
      "True\n",
      "6\n"
     ]
    }
   ],
   "source": [
    "index = faiss.IndexFlatL2(d)   # build the index\n",
    "print(index.is_trained)\n",
    "index.add(xb)                  # add vectors to the index\n",
    "print(index.ntotal)"
   ]
  },
  {
   "cell_type": "code",
   "execution_count": 78,
   "metadata": {},
   "outputs": [
    {
     "name": "stdout",
     "output_type": "stream",
     "text": [
      "クエリ: \n",
      " [[1000.1 1001.1 1002.1 1003.1 1004.1 1005.1 1006.1 1007.1 1008.1 1009.1]] \n",
      "\n",
      "距離: \n",
      " [[       0.1  8021076.   8101799.   9802979.   9912276.  10001999. ]]\n",
      "近傍点のインデックス: \n",
      " [[5 4 3 2 1 0]]\n"
     ]
    }
   ],
   "source": [
    "np.set_printoptions(suppress=True)\n",
    "k = 6\n",
    "xq = np.asarray([xb[5] + 0.1]).astype('float32')\n",
    "print(\"クエリ: \\n\", xq, \"\\n\")\n",
    "D, I = index.search(xq, k)     # actual search\n",
    "print(\"距離: \\n\", np.round(D,3))\n",
    "print(\"近傍点のインデックス: \\n\", I)"
   ]
  },
  {
   "cell_type": "code",
   "execution_count": null,
   "metadata": {},
   "outputs": [],
   "source": []
  }
 ],
 "metadata": {
  "kernelspec": {
   "display_name": "Python 3",
   "language": "python",
   "name": "python3"
  },
  "language_info": {
   "codemirror_mode": {
    "name": "ipython",
    "version": 3
   },
   "file_extension": ".py",
   "mimetype": "text/x-python",
   "name": "python",
   "nbconvert_exporter": "python",
   "pygments_lexer": "ipython3",
   "version": "3.6.10"
  }
 },
 "nbformat": 4,
 "nbformat_minor": 2
}
