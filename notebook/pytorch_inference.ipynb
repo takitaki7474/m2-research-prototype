{
 "cells": [
  {
   "cell_type": "code",
   "execution_count": 148,
   "metadata": {},
   "outputs": [],
   "source": [
    "import torch\n",
    "import torchvision\n",
    "import torchvision.transforms as transforms"
   ]
  },
  {
   "cell_type": "code",
   "execution_count": 149,
   "metadata": {},
   "outputs": [],
   "source": [
    "transform = transforms.Compose(\n",
    "    [transforms.ToTensor(),\n",
    "     transforms.Normalize( (0.5, 0.5, 0.5), (0.5, 0.5, 0.5) )])"
   ]
  },
  {
   "cell_type": "code",
   "execution_count": 150,
   "metadata": {},
   "outputs": [
    {
     "name": "stdout",
     "output_type": "stream",
     "text": [
      "Files already downloaded and verified\n",
      "Files already downloaded and verified\n"
     ]
    }
   ],
   "source": [
    "download_path = \"../prototype/pytorch_prototype/data\"\n",
    "\n",
    "trainset = torchvision.datasets.CIFAR10(\n",
    "    root=download_path,\n",
    "    train=True,\n",
    "    download=True,\n",
    "    transform=transform)\n",
    "\n",
    "testset = torchvision.datasets.CIFAR10(\n",
    "    root=download_path,\n",
    "    train=False,\n",
    "    download=True,\n",
    "    transform=transform)"
   ]
  },
  {
   "cell_type": "code",
   "execution_count": 151,
   "metadata": {},
   "outputs": [],
   "source": [
    "import random\n",
    "\n",
    "# 複数クラスラベルのデータセットから指定クラスラベルの1データセットを取得\n",
    "def get_one_label_data(class_label, dataset):\n",
    "    new_data = []\n",
    "    for data in dataset:\n",
    "        label = data[1]\n",
    "        if label == class_label:\n",
    "            new_data.append(data)\n",
    "    return new_data\n",
    "\n",
    "# 複数クラスラベルのデータセットから指定クラスラベルのtrain, testデータセットを取得\n",
    "def get_one_label_dataset(class_label, train, test):\n",
    "    train = get_one_label_data(class_label, train)\n",
    "    test = get_one_label_data(class_label, test)\n",
    "    return train, test\n",
    "\n",
    "# 1データセットのラベルを指定のラベルに変更\n",
    "def change_label_data(new_label, dataset):\n",
    "    new_data = []\n",
    "    for data in dataset:\n",
    "        new_data.append((data[0], new_label))\n",
    "    return new_data\n",
    "\n",
    "# train, testデータセットのラベルを指定のラベルに変更\n",
    "def change_label_dataset(new_label, train, test):\n",
    "    train = change_label_data(new_label, train)\n",
    "    test = change_label_data(new_label, test)\n",
    "    return train, test\n",
    "\n",
    "# 指定データ数分のtrainデータをランダムに取得\n",
    "# data_n: 1クラスのデータ数\n",
    "def choice_train_at_random(data_n, train):\n",
    "    train = random.sample(train, data_n)\n",
    "    return train\n",
    "\n",
    "# 指定クラスラベルリストのtrain, testデータセットを取得\n",
    "def get_specific_label_dataset(class_label_list, train, test, data_n=None):\n",
    "    new_train = []\n",
    "    new_test = []\n",
    "    for i, label in enumerate(class_label_list):\n",
    "        got_train, got_test = get_one_label_dataset(label, train, test)\n",
    "        got_train, got_test = change_label_dataset(i, got_train, got_test)\n",
    "        if data_n != None:\n",
    "            got_train = choice_train_at_random(data_n, got_train)\n",
    "        new_train += got_train\n",
    "        new_test += got_test\n",
    "    return new_train, new_test"
   ]
  },
  {
   "cell_type": "code",
   "execution_count": 152,
   "metadata": {},
   "outputs": [],
   "source": [
    "import matplotlib.pyplot as plt\n",
    "import numpy as np\n",
    "\n",
    "def imshow(img):\n",
    "    img = img / 2 + 0.5     \n",
    "    npimg = img.numpy()\n",
    "    plt.imshow(np.transpose(npimg, (1, 2, 0)))\n",
    "    plt.show()"
   ]
  },
  {
   "cell_type": "code",
   "execution_count": 153,
   "metadata": {},
   "outputs": [],
   "source": [
    "class_label_list = [1,2,8]\n",
    "new_train, new_test = get_specific_label_dataset(class_label_list, trainset, testset)"
   ]
  },
  {
   "cell_type": "code",
   "execution_count": 154,
   "metadata": {},
   "outputs": [
    {
     "name": "stdout",
     "output_type": "stream",
     "text": [
      "15000\n",
      "3000\n"
     ]
    }
   ],
   "source": [
    "print(len(new_train))\n",
    "print(len(new_test))"
   ]
  },
  {
   "cell_type": "code",
   "execution_count": 155,
   "metadata": {},
   "outputs": [],
   "source": [
    "batch_size = 128\n",
    "\n",
    "trainloader = torch.utils.data.DataLoader(\n",
    "    new_train,\n",
    "    batch_size=batch_size,\n",
    "    shuffle=True,\n",
    "    num_workers=2)\n",
    "\n",
    "testloader = torch.utils.data.DataLoader(\n",
    "    new_test,\n",
    "    batch_size=batch_size,\n",
    "    shuffle=False,\n",
    "    num_workers=2)"
   ]
  },
  {
   "cell_type": "code",
   "execution_count": 156,
   "metadata": {},
   "outputs": [],
   "source": [
    "(inputs, labels) = testloader.__iter__()._next_data()"
   ]
  },
  {
   "cell_type": "code",
   "execution_count": 157,
   "metadata": {},
   "outputs": [
    {
     "data": {
      "image/png": "[encoded data removed]",
      "text/plain": [
       "<matplotlib.figure.Figure at 0x125104400>"
      ]
     },
     "metadata": {},
     "output_type": "display_data"
    },
    {
     "name": "stdout",
     "output_type": "stream",
     "text": [
      "正解ラベル: automobile\n",
      "予測ラベル: automobile\n"
     ]
    }
   ],
   "source": [
    "# 推論\n",
    "from test_assets.model import pytorch_cifar10\n",
    "\n",
    "classes = [\"automobile\", \"bird\", \"ship\"]\n",
    "param_path = \"./test_assets/learned_model/v8.pth\"\n",
    "param = torch.load(param_path)\n",
    "model = pytorch_cifar10.LeNet(3)\n",
    "model.load_state_dict(param)\n",
    "\n",
    "output = model(inputs)\n",
    "_, predicted = torch.max(output, 1)\n",
    "\n",
    "index = 0\n",
    "\n",
    "imshow(torchvision.utils.make_grid(inputs[index]))\n",
    "print(\"正解ラベル: {0}\".format(classes[labels[index].item()]))\n",
    "print(\"予測ラベル: {0}\".format(classes[predicted[index].item()]))"
   ]
  },
  {
   "cell_type": "code",
   "execution_count": 158,
   "metadata": {},
   "outputs": [
    {
     "data": {
      "text/plain": [
       "tensor([ True,  True,  True,  True,  True,  True,  True,  True,  True,  True,\n",
       "         True,  True,  True,  True,  True,  True,  True,  True,  True,  True,\n",
       "         True,  True,  True,  True,  True,  True,  True,  True,  True,  True,\n",
       "         True,  True,  True,  True,  True,  True,  True,  True,  True,  True,\n",
       "         True,  True,  True,  True,  True,  True,  True,  True,  True,  True,\n",
       "         True,  True,  True,  True,  True,  True,  True,  True,  True,  True,\n",
       "         True,  True,  True,  True,  True, False,  True,  True,  True,  True,\n",
       "         True,  True,  True,  True,  True,  True,  True,  True,  True,  True,\n",
       "         True,  True,  True,  True,  True,  True,  True,  True,  True,  True,\n",
       "         True,  True,  True,  True,  True,  True,  True,  True,  True,  True,\n",
       "         True,  True,  True,  True,  True, False,  True,  True,  True,  True,\n",
       "         True,  True,  True,  True,  True,  True,  True,  True,  True,  True,\n",
       "         True,  True,  True,  True,  True, False,  True, False])"
      ]
     },
     "execution_count": 158,
     "metadata": {},
     "output_type": "execute_result"
    }
   ],
   "source": [
    "predicted == labels"
   ]
  }
 ],
 "metadata": {
  "kernelspec": {
   "display_name": "Python 3",
   "language": "python",
   "name": "python3"
  },
  "language_info": {
   "codemirror_mode": {
    "name": "ipython",
    "version": 3
   },
   "file_extension": ".py",
   "mimetype": "text/x-python",
   "name": "python",
   "nbconvert_exporter": "python",
   "pygments_lexer": "ipython3",
   "version": "3.6.4"
  }
 },
 "nbformat": 4,
 "nbformat_minor": 2
}
