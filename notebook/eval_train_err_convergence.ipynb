{
 "cells": [
  {
   "cell_type": "code",
   "execution_count": 12,
   "metadata": {},
   "outputs": [],
   "source": [
    "import json\n",
    "import numpy as np\n",
    "import matplotlib.pyplot as plt\n",
    "from scipy import optimize"
   ]
  },
  {
   "cell_type": "code",
   "execution_count": 4,
   "metadata": {},
   "outputs": [],
   "source": [
    "def load_json(json_path):\n",
    "    f = open(json_path, \"r\")\n",
    "    loaded_json = json.load(f)\n",
    "    return loaded_json"
   ]
  },
  {
   "cell_type": "code",
   "execution_count": 32,
   "metadata": {},
   "outputs": [],
   "source": [
    "def get_xy_val_from_json(loaded_json) :\n",
    "    x_list = []\n",
    "    y_list = []\n",
    "    for one_epoch_result in loaded_json:\n",
    "        x_list.append(one_epoch_result[\"epoch\"])\n",
    "        y_list.append(one_epoch_result[\"train loss\"])\n",
    "    return x_list, y_list"
   ]
  },
  {
   "cell_type": "code",
   "execution_count": 29,
   "metadata": {},
   "outputs": [],
   "source": [
    "def func_c2(x, a, b, c):\n",
    "    return a*x**2 + b*x + c\n",
    "\n",
    "def func_c3(x, a, b, c, d):\n",
    "    return a*x**3 + b*x**2 + c*x +d"
   ]
  },
  {
   "cell_type": "code",
   "execution_count": 30,
   "metadata": {},
   "outputs": [],
   "source": [
    "def get_approx_y(func, x_list, y_list, d=2):\n",
    "    approx_y_list = []\n",
    "    res = optimize.curve_fit(func, x_list, y_list)\n",
    "    if d == 2:\n",
    "        for x in x_list:\n",
    "            approx_y_list.append(func(x, res[0][0], res[0][1], res[0][2]))\n",
    "    elif d == 3:\n",
    "        for x in x_list:\n",
    "            approx_y_list.append(func(x, res[0][0], res[0][1], res[0][2], res[0][3]))\n",
    "    return approx_y_list"
   ]
  },
  {
   "cell_type": "code",
   "execution_count": 31,
   "metadata": {},
   "outputs": [],
   "source": [
    "def display_graph(x_list, y_list):\n",
    "    plt.figure(figsize=(8,6))\n",
    "    plt.plot(x_list, y_list)"
   ]
  },
  {
   "cell_type": "code",
   "execution_count": 5,
   "metadata": {},
   "outputs": [],
   "source": [
    "json_path = \"../prototype/pytorch_prototype/result/v5/log.json\"\n",
    "loaded_json = load_json(json_path)"
   ]
  },
  {
   "cell_type": "code",
   "execution_count": null,
   "metadata": {},
   "outputs": [],
   "source": []
  }
 ],
 "metadata": {
  "kernelspec": {
   "display_name": "Python 3",
   "language": "python",
   "name": "python3"
  },
  "language_info": {
   "codemirror_mode": {
    "name": "ipython",
    "version": 3
   },
   "file_extension": ".py",
   "mimetype": "text/x-python",
   "name": "python",
   "nbconvert_exporter": "python",
   "pygments_lexer": "ipython3",
   "version": "3.6.10"
  }
 },
 "nbformat": 4,
 "nbformat_minor": 2
}
