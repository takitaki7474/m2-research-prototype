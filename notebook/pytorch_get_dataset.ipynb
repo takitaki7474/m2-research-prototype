{
 "cells": [
  {
   "cell_type": "code",
   "execution_count": 1,
   "metadata": {},
   "outputs": [],
   "source": [
    "import torch\n",
    "import torchvision\n",
    "import torchvision.transforms as transforms"
   ]
  },
  {
   "cell_type": "code",
   "execution_count": 2,
   "metadata": {},
   "outputs": [],
   "source": [
    "transform = transforms.Compose(\n",
    "    [transforms.ToTensor(),\n",
    "     transforms.Normalize( (0.5, 0.5, 0.5), (0.5, 0.5, 0.5) )])"
   ]
  },
  {
   "cell_type": "code",
   "execution_count": 3,
   "metadata": {},
   "outputs": [
    {
     "name": "stdout",
     "output_type": "stream",
     "text": [
      "Files already downloaded and verified\n",
      "Files already downloaded and verified\n"
     ]
    }
   ],
   "source": [
    "download_path = \"../prototype/pytorch_prototype/data\"\n",
    "\n",
    "trainset = torchvision.datasets.CIFAR10(\n",
    "    root=download_path,\n",
    "    train=True,\n",
    "    download=True,\n",
    "    transform=transform)\n",
    "\n",
    "testset = torchvision.datasets.CIFAR10(\n",
    "    root=download_path,\n",
    "    train=False,\n",
    "    download=True,\n",
    "    transform=transform)"
   ]
  },
  {
   "cell_type": "code",
   "execution_count": 4,
   "metadata": {},
   "outputs": [],
   "source": [
    "import random\n",
    "\n",
    "# 複数クラスラベルのデータセットから指定クラスラベルの1データセットを取得\n",
    "def get_one_label_data(class_label, dataset):\n",
    "    new_data = []\n",
    "    for data in dataset:\n",
    "        label = data[1]\n",
    "        if label == class_label:\n",
    "            new_data.append(data)\n",
    "    return new_data\n",
    "\n",
    "# 複数クラスラベルのデータセットから指定クラスラベルのtrain, testデータセットを取得\n",
    "def get_one_label_dataset(class_label, train, test):\n",
    "    train = get_one_label_data(class_label, train)\n",
    "    test = get_one_label_data(class_label, test)\n",
    "    return train, test\n",
    "\n",
    "# 1データセットのラベルを指定のラベルに変更\n",
    "def change_label_data(new_label, dataset):\n",
    "    new_data = []\n",
    "    for data in dataset:\n",
    "        new_data.append((data[0], new_label))\n",
    "    return new_data\n",
    "\n",
    "# train, testデータセットのラベルを指定のラベルに変更\n",
    "def change_label_dataset(new_label, train, test):\n",
    "    train = change_label_data(new_label, train)\n",
    "    test = change_label_data(new_label, test)\n",
    "    return train, test\n",
    "\n",
    "# 指定データ数分のtrainデータをランダムに取得\n",
    "# data_n: 1クラスのデータ数\n",
    "def choice_train_at_random(data_n, train):\n",
    "    train = random.sample(train, data_n)\n",
    "    return train\n",
    "\n",
    "# 指定クラスラベルリストのtrain, testデータセットを取得\n",
    "def get_specific_label_dataset(class_label_list, train, test, data_n=None):\n",
    "    new_train = []\n",
    "    new_test = []\n",
    "    for i, label in enumerate(class_label_list):\n",
    "        got_train, got_test = get_one_label_dataset(label, train, test)\n",
    "        got_train, got_test = change_label_dataset(i, got_train, got_test)\n",
    "        if data_n != None:\n",
    "            got_train = choice_train_at_random(data_n, got_train)\n",
    "        new_train += got_train\n",
    "        new_test += got_test\n",
    "    return new_train, new_test"
   ]
  },
  {
   "cell_type": "code",
   "execution_count": 5,
   "metadata": {},
   "outputs": [],
   "source": [
    "class_label_list = [3,4,6]\n",
    "new_train, new_test = get_specific_label_dataset(class_label_list, trainset, testset, 50)"
   ]
  },
  {
   "cell_type": "code",
   "execution_count": 12,
   "metadata": {},
   "outputs": [
    {
     "data": {
      "text/plain": [
       "(tensor([[[-0.2863, -0.2314, -0.2863,  ..., -0.3882, -0.4118, -0.3961],\n",
       "          [-0.3961, -0.3961, -0.3098,  ..., -0.5451, -0.5686, -0.5529],\n",
       "          [-0.3725, -0.3804, -0.2863,  ..., -0.5451, -0.5686, -0.5529],\n",
       "          ...,\n",
       "          [ 0.2000,  0.2784,  0.3804,  ...,  0.2549,  0.3020,  0.2863],\n",
       "          [-0.0431,  0.1294,  0.3412,  ...,  0.3647,  0.3412,  0.3255],\n",
       "          [ 0.0667,  0.1294,  0.1294,  ...,  0.4353,  0.4902,  0.3882]],\n",
       " \n",
       "         [[-0.2157, -0.1608, -0.2314,  ..., -0.3098, -0.3333, -0.3255],\n",
       "          [-0.3255, -0.3333, -0.2392,  ..., -0.4902, -0.5137, -0.4902],\n",
       "          [-0.3255, -0.3333, -0.2314,  ..., -0.4745, -0.4902, -0.4745],\n",
       "          ...,\n",
       "          [ 0.3020,  0.4039,  0.4745,  ...,  0.3176,  0.3804,  0.3804],\n",
       "          [ 0.0431,  0.2392,  0.4431,  ...,  0.4431,  0.4353,  0.4039],\n",
       "          [ 0.1216,  0.1843,  0.2000,  ...,  0.4588,  0.5216,  0.4275]],\n",
       " \n",
       "         [[-0.7333, -0.7490, -0.8353,  ..., -0.8275, -0.8510, -0.7804],\n",
       "          [-0.8667, -0.8275, -0.7333,  ..., -0.8980, -0.9137, -0.8902],\n",
       "          [-0.8275, -0.8275, -0.7333,  ..., -0.9059, -0.8980, -0.8667],\n",
       "          ...,\n",
       "          [-0.1451, -0.0588, -0.0588,  ..., -0.3412, -0.2706, -0.2863],\n",
       "          [-0.6392, -0.4902, -0.1373,  ..., -0.1373, -0.1373, -0.1529],\n",
       "          [-0.6863, -0.5137, -0.4510,  ...,  0.0745,  0.1608, -0.0118]]]), 2)"
      ]
     },
     "execution_count": 12,
     "metadata": {},
     "output_type": "execute_result"
    }
   ],
   "source": [
    "new_train[102]"
   ]
  },
  {
   "cell_type": "code",
   "execution_count": 14,
   "metadata": {},
   "outputs": [],
   "source": [
    "import matplotlib.pyplot as plt\n",
    "import numpy as np\n",
    "\n",
    "def imshow(img):\n",
    "    img = img / 2 + 0.5     \n",
    "    npimg = img.numpy()\n",
    "    plt.imshow(np.transpose(npimg, (1, 2, 0)))\n",
    "    plt.show()"
   ]
  },
  {
   "cell_type": "code",
   "execution_count": 25,
   "metadata": {},
   "outputs": [
    {
     "data": {
      "image/png": "[encoded data removed]",
      "text/plain": [
       "<matplotlib.figure.Figure at 0x124fe42e8>"
      ]
     },
     "metadata": {},
     "output_type": "display_data"
    }
   ],
   "source": [
    "images = new_train[52][0]\n",
    "imshow(torchvision.utils.make_grid(images))"
   ]
  },
  {
   "cell_type": "code",
   "execution_count": null,
   "metadata": {},
   "outputs": [],
   "source": []
  }
 ],
 "metadata": {
  "kernelspec": {
   "display_name": "Python 3",
   "language": "python",
   "name": "python3"
  },
  "language_info": {
   "codemirror_mode": {
    "name": "ipython",
    "version": 3
   },
   "file_extension": ".py",
   "mimetype": "text/x-python",
   "name": "python",
   "nbconvert_exporter": "python",
   "pygments_lexer": "ipython3",
   "version": "3.6.4"
  }
 },
 "nbformat": 4,
 "nbformat_minor": 2
}
