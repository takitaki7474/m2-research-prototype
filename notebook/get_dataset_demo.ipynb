{
 "cells": [
  {
   "cell_type": "code",
   "execution_count": 17,
   "metadata": {},
   "outputs": [],
   "source": [
    "import chainer\n",
    "import random"
   ]
  },
  {
   "cell_type": "code",
   "execution_count": 28,
   "metadata": {},
   "outputs": [],
   "source": [
    "# cifar10の読み込み\n",
    "def load_cifar10():\n",
    "    (train, test) = chainer.datasets.get_cifar10()\n",
    "    return train, test\n",
    "\n",
    "# 複数クラスラベルのデータセットから指定クラスラベルの1データセットを取得\n",
    "def get_one_label_data(class_label, dataset):\n",
    "    new_data = []\n",
    "    for data in dataset:\n",
    "        label = data[1]\n",
    "        if label == class_label:\n",
    "            new_data.append(data)\n",
    "    return new_data\n",
    "\n",
    "# 複数クラスラベルのデータセットから指定クラスラベルのtrain, testデータセットを取得\n",
    "def get_one_label_dataset(class_label, train, test):\n",
    "    train = get_one_label_data(class_label, train)\n",
    "    test = get_one_label_data(class_label, test)\n",
    "    return train, test\n",
    "\n",
    "# 1データセットのラベルを指定のラベルに変更\n",
    "def change_label_data(new_label, dataset):\n",
    "    new_data = []\n",
    "    for data in dataset:\n",
    "        new_data.append((data[0], new_label))\n",
    "    return new_data\n",
    "\n",
    "# train, testデータセットのラベルを指定のラベルに変更\n",
    "def change_label_dataset(new_label, train, test):\n",
    "    train = change_label_data(new_label, train)\n",
    "    test = change_label_data(new_label, test)\n",
    "    return train, test\n",
    "\n",
    "# 指定データ数分のtrainデータをランダムに取得\n",
    "# data_n: 1クラスのデータ数\n",
    "def choice_train_at_random(data_n, train):\n",
    "    train = random.sample(train, data_n)\n",
    "    return train\n",
    "\n",
    "# 指定クラスラベルリストのtrain, testデータセットを取得\n",
    "def get_specific_label_dataset(class_label_list, train, test, data_n=None):\n",
    "    new_train = []\n",
    "    new_test = []\n",
    "    for i, label in enumerate(class_label_list):\n",
    "        got_train, got_test = get_one_label_dataset(label, train, test)\n",
    "        got_train, got_test = change_label_dataset(i, got_train, got_test)\n",
    "        if data_n != None:\n",
    "            got_train = choice_train_at_random(data_n, got_train)\n",
    "        new_train += got_train\n",
    "        new_test += got_test\n",
    "    return new_train, new_test"
   ]
  },
  {
   "cell_type": "code",
   "execution_count": 32,
   "metadata": {},
   "outputs": [
    {
     "name": "stdout",
     "output_type": "stream",
     "text": [
      "trainのラベルリスト:  [0, 0, 0, 0, 1, 1, 1, 1, 2, 2, 2, 2]\n",
      "trainデータ数: 12\n",
      "testデータ数: 3000\n"
     ]
    }
   ],
   "source": [
    "class_label_list = [0,1,2]\n",
    "train, test = load_cifar10()\n",
    "train, test = get_specific_label_dataset(class_label_list, train, test, 4)\n",
    "\n",
    "label_list = []\n",
    "for d in train:\n",
    "    label_list.append(d[1])\n",
    "print(\"trainのラベルリスト: \", label_list)\n",
    "print(\"trainデータ数:\", len(train))\n",
    "print(\"testデータ数:\", len(test))"
   ]
  },
  {
   "cell_type": "code",
   "execution_count": 21,
   "metadata": {},
   "outputs": [
    {
     "name": "stdout",
     "output_type": "stream",
     "text": [
      "データセットが要求を満たすか:  True\n"
     ]
    }
   ],
   "source": [
    "# get_one_label_data()のテスト\n",
    "train, test = load_cifar10()\n",
    "dataset = get_one_label_data(1, train)\n",
    "\n",
    "count = 0\n",
    "for data in dataset:\n",
    "    if data[1] == 1:\n",
    "        count += 1\n",
    "print(\"データセットが要求を満たすか: \", count == len(dataset))"
   ]
  },
  {
   "cell_type": "code",
   "execution_count": 46,
   "metadata": {},
   "outputs": [
    {
     "name": "stdout",
     "output_type": "stream",
     "text": [
      "trainデータ数:  5000\n",
      "trainデータセットが要求を満たすか:  True\n",
      "testデータ数:  1000\n",
      "testデータセットが要求を満たすか:  True\n"
     ]
    }
   ],
   "source": [
    "# get_one_label_dataset()のテスト\n",
    "train, test = load_cifar10()\n",
    "label = 2\n",
    "train, test = get_one_label_dataset(label, train, test)\n",
    "\n",
    "count = 0\n",
    "for data in train:\n",
    "    if data[1] == label:\n",
    "        count += 1\n",
    "print(\"trainデータ数: \", len(train))\n",
    "print(\"trainデータセットが要求を満たすか: \", count == len(train))\n",
    "count = 0\n",
    "for data in test:\n",
    "    if data[1] == label:\n",
    "        count += 1\n",
    "print(\"testデータ数: \", len(test))\n",
    "print(\"testデータセットが要求を満たすか: \", count == len(test))"
   ]
  },
  {
   "cell_type": "code",
   "execution_count": 3,
   "metadata": {},
   "outputs": [
    {
     "name": "stdout",
     "output_type": "stream",
     "text": [
      "trainデータ数:  15000\n",
      "trainデータセットが要求を満たすか:  True\n",
      "testデータ数:  3000\n",
      "testデータセットが要求を満たすか:  True\n"
     ]
    }
   ],
   "source": [
    "#  get_specific_label_dataset()のテスト\n",
    "train, test = load_cifar10()\n",
    "class_label_list = [1,2,7]\n",
    "train, test = get_specific_label_dataset(class_label_list, train, test)\n",
    "\n",
    "count = 0\n",
    "for data in train:\n",
    "    if data[1] == 1 or data[1] == 2 or data[1] == 7:\n",
    "        count += 1\n",
    "print(\"trainデータ数: \", len(train))\n",
    "print(\"trainデータセットが要求を満たすか: \", count == len(train))\n",
    "count = 0\n",
    "for data in test:\n",
    "    if data[1] == 1 or data[1] == 2 or data[1] == 7:\n",
    "        count += 1\n",
    "print(\"testデータ数: \", len(test))\n",
    "print(\"testデータセットが要求を満たすか: \", count == len(test))"
   ]
  },
  {
   "cell_type": "code",
   "execution_count": 12,
   "metadata": {},
   "outputs": [
    {
     "data": {
      "image/png": "[encoded data removed]",
      "text/plain": [
       "<matplotlib.figure.Figure at 0x10784af60>"
      ]
     },
     "metadata": {},
     "output_type": "display_data"
    },
    {
     "name": "stdout",
     "output_type": "stream",
     "text": [
      "ラベル:  2\n"
     ]
    }
   ],
   "source": [
    "class_label_list = [1,2,7]\n",
    "\n",
    "train, test = load_cifar10()\n",
    "train, test = get_specific_label_dataset(class_label_list, train, test)\n",
    "\n",
    "import numpy as np\n",
    "import matplotlib.pyplot as plt\n",
    "# 1枚画像の表示\n",
    "#img = train[0]\n",
    "#img = np.dstack((img[0][0], img[0][1], img[0][2]))\n",
    "data_num = 13000\n",
    "data = train[data_num]\n",
    "img = np.dstack((data[0][0], data[0][1], data[0][2]))\n",
    "plt.figure(figsize=(4,4))\n",
    "plt.imshow(img)\n",
    "plt.show()\n",
    "print(\"ラベル: \", train[data_num][1])"
   ]
  },
  {
   "cell_type": "code",
   "execution_count": 40,
   "metadata": {},
   "outputs": [
    {
     "data": {
      "text/plain": [
       "[(1, 2, 3), (2, 3)]"
      ]
     },
     "execution_count": 40,
     "metadata": {},
     "output_type": "execute_result"
    }
   ],
   "source": [
    "a = [(1,2,3),(2,3),(9,4)]\n",
    "random.sample(a,2)"
   ]
  },
  {
   "cell_type": "code",
   "execution_count": null,
   "metadata": {},
   "outputs": [],
   "source": []
  }
 ],
 "metadata": {
  "kernelspec": {
   "display_name": "Python 3",
   "language": "python",
   "name": "python3"
  },
  "language_info": {
   "codemirror_mode": {
    "name": "ipython",
    "version": 3
   },
   "file_extension": ".py",
   "mimetype": "text/x-python",
   "name": "python",
   "nbconvert_exporter": "python",
   "pygments_lexer": "ipython3",
   "version": "3.6.4"
  }
 },
 "nbformat": 4,
 "nbformat_minor": 2
}
