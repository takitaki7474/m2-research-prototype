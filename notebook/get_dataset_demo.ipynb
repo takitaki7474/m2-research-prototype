{
 "cells": [
  {
   "cell_type": "code",
   "execution_count": 1,
   "metadata": {},
   "outputs": [
    {
     "name": "stderr",
     "output_type": "stream",
     "text": [
      "/Users/ootaryuunosuke/.pyenv/versions/anaconda3-5.1.0/lib/python3.6/site-packages/h5py/__init__.py:36: FutureWarning: Conversion of the second argument of issubdtype from `float` to `np.floating` is deprecated. In future, it will be treated as `np.float64 == np.dtype(float).type`.\n",
      "  from ._conv import register_converters as _register_converters\n"
     ]
    }
   ],
   "source": [
    "import numpy as np\n",
    "import chainer"
   ]
  },
  {
   "cell_type": "code",
   "execution_count": 58,
   "metadata": {},
   "outputs": [],
   "source": [
    "# cifar10の読み込み\n",
    "def load_cifar10():\n",
    "    (train, test) = chainer.datasets.get_cifar10()\n",
    "    return train, test\n",
    "\n",
    "# 特定クラスラベル画像の取得\n",
    "def get_one_label_data(class_label, dataset):\n",
    "    new_data = []\n",
    "    for data in dataset:\n",
    "        label = data[1]\n",
    "        if label == class_label:\n",
    "            new_data.append(data)\n",
    "    return new_data\n",
    "\n",
    "# 特定クラスラベルのtrain, testデータセットを取得\n",
    "def get_one_label_dataset(class_label, train_dataset, test_dataset):\n",
    "    train = get_one_label_data(class_label, train_dataset)\n",
    "    test = get_one_label_data(class_label, test_dataset)\n",
    "    return train, test\n",
    "\n",
    "# 特定クラスラベルリストのtrain, testデータセットを取得\n",
    "def get_specific_label_dataset(class_label_list, train_dataset, test_dataset):\n",
    "    new_train = []\n",
    "    new_test = []\n",
    "    for label in class_label_list:\n",
    "        train, test = get_one_label_dataset(label, train_dataset, test_dataset)\n",
    "        new_train += train\n",
    "        new_test += test\n",
    "    return new_train, new_test"
   ]
  },
  {
   "cell_type": "code",
   "execution_count": 21,
   "metadata": {},
   "outputs": [
    {
     "name": "stdout",
     "output_type": "stream",
     "text": [
      "データセットが要求を満たすか:  True\n"
     ]
    }
   ],
   "source": [
    "# get_one_label_data()のテスト\n",
    "train, test = load_cifar10()\n",
    "dataset = get_one_label_data(1, train)\n",
    "\n",
    "count = 0\n",
    "for data in dataset:\n",
    "    if data[1] == 1:\n",
    "        count += 1\n",
    "print(\"データセットが要求を満たすか: \", count == len(dataset))"
   ]
  },
  {
   "cell_type": "code",
   "execution_count": 46,
   "metadata": {},
   "outputs": [
    {
     "name": "stdout",
     "output_type": "stream",
     "text": [
      "trainデータ数:  5000\n",
      "trainデータセットが要求を満たすか:  True\n",
      "testデータ数:  1000\n",
      "testデータセットが要求を満たすか:  True\n"
     ]
    }
   ],
   "source": [
    "# get_one_label_dataset()のテスト\n",
    "train, test = load_cifar10()\n",
    "label = 2\n",
    "train, test = get_one_label_dataset(label, train, test)\n",
    "\n",
    "count = 0\n",
    "for data in train:\n",
    "    if data[1] == label:\n",
    "        count += 1\n",
    "print(\"trainデータ数: \", len(train))\n",
    "print(\"trainデータセットが要求を満たすか: \", count == len(train))\n",
    "count = 0\n",
    "for data in test:\n",
    "    if data[1] == label:\n",
    "        count += 1\n",
    "print(\"testデータ数: \", len(test))\n",
    "print(\"testデータセットが要求を満たすか: \", count == len(test))"
   ]
  },
  {
   "cell_type": "code",
   "execution_count": 59,
   "metadata": {},
   "outputs": [
    {
     "name": "stdout",
     "output_type": "stream",
     "text": [
      "trainデータ数:  15000\n",
      "trainデータセットが要求を満たすか:  True\n",
      "testデータ数:  3000\n",
      "testデータセットが要求を満たすか:  True\n"
     ]
    }
   ],
   "source": [
    "#  get_specific_label_dataset()のテスト\n",
    "train, test = load_cifar10()\n",
    "class_label_list = [1,2,7]\n",
    "train, test = get_specific_label_dataset(class_label_list, train, test)\n",
    "\n",
    "count = 0\n",
    "for data in train:\n",
    "    if data[1] == 1 or data[1] == 2 or data[1] == 7:\n",
    "        count += 1\n",
    "print(\"trainデータ数: \", len(train))\n",
    "print(\"trainデータセットが要求を満たすか: \", count == len(train))\n",
    "count = 0\n",
    "for data in test:\n",
    "    if data[1] == 1 or data[1] == 2 or data[1] == 7:\n",
    "        count += 1\n",
    "print(\"testデータ数: \", len(test))\n",
    "print(\"testデータセットが要求を満たすか: \", count == len(test))"
   ]
  },
  {
   "cell_type": "code",
   "execution_count": null,
   "metadata": {},
   "outputs": [],
   "source": []
  }
 ],
 "metadata": {
  "kernelspec": {
   "display_name": "Python 3",
   "language": "python",
   "name": "python3"
  },
  "language_info": {
   "codemirror_mode": {
    "name": "ipython",
    "version": 3
   },
   "file_extension": ".py",
   "mimetype": "text/x-python",
   "name": "python",
   "nbconvert_exporter": "python",
   "pygments_lexer": "ipython3",
   "version": "3.6.4"
  }
 },
 "nbformat": 4,
 "nbformat_minor": 2
}
